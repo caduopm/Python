{
 "cells": [
  {
   "attachments": {},
   "cell_type": "markdown",
   "metadata": {},
   "source": [
    "# Resumo"
   ]
  },
  {
   "attachments": {},
   "cell_type": "markdown",
   "metadata": {},
   "source": [
    "> python -m pip install --upgrade pip"
   ]
  },
  {
   "attachments": {},
   "cell_type": "markdown",
   "metadata": {},
   "source": [
    "### Virtual envirement"
   ]
  },
  {
   "attachments": {},
   "cell_type": "markdown",
   "metadata": {},
   "source": [
    "> pip install virtualenv\n",
    "\n",
    "> virtualenv myenv\n",
    "\n",
    "> myenv\\Scripts\\activate\n",
    "\n",
    "> pip install -r requirements.txt"
   ]
  },
  {
   "attachments": {},
   "cell_type": "markdown",
   "metadata": {},
   "source": [
    "### Tipos primitivos python"
   ]
  },
  {
   "attachments": {},
   "cell_type": "markdown",
   "metadata": {},
   "source": [
    "- int\n",
    "- float\n",
    "- bool\n",
    "- str"
   ]
  },
  {
   "cell_type": "code",
   "execution_count": 11,
   "metadata": {},
   "outputs": [
    {
     "name": "stdout",
     "output_type": "stream",
     "text": [
      "Praser te conhecer carlos\n",
      "Praser te conhecer carlos!\n",
      "a some entre 5 e 2 vale 7\n",
      "a some entre 5 e 2 vale 7\n",
      "a some entre 5 e 2 vale 7\n",
      "\n",
      "\n",
      "<class 'str'>\n",
      "\n",
      "\n",
      "mostrando x caractere carlos              \n",
      "mostrando x caractere carlos              \n",
      "mostrando x caractere               carlos\n",
      "mostrando x caractere        carlos       \n",
      "mostrando x caractere =======carlos=======\n",
      "\n",
      "\n",
      "mostrando x caractere 3.333concatenar printconcatenar \n",
      " print\n"
     ]
    }
   ],
   "source": [
    "# mostrando valor\n",
    "nome = 'carlos'\n",
    "print('Praser te conhecer', nome)\n",
    "print('Praser te conhecer {}!'.format(nome))\n",
    "print('a some entre', 5, 'e', 2, 'vale', 7)\n",
    "print('a some entre {} e {} vale {}'.format(5, 2, 7))\n",
    "print('a some entre {0} e {1} vale {2}'.format(5, 2, 7))# pode colocar dentro das chaves a ordem a ser exibida se quiser\n",
    "print('\\n')\n",
    "\n",
    "print(type(nome)) # mostra o tipo da vareaver nome\n",
    "print('\\n')\n",
    "\n",
    "print(f\"mostrando x caractere {nome:20}\")# vai mostrar um espaço de 20 caractere com o nome a esquerda como defalt\n",
    "print(f\"mostrando x caractere {nome:<20}\")# vai mostrar um espaço de 20 caractere com o nome alinhado a esquerda\n",
    "print(f\"mostrando x caractere {nome:>20}\")# vai mostrar um espaço de 20 caractere com o nome alinhado a direita\n",
    "print(f\"mostrando x caractere {nome:^20}\")# vai mostrar um espaço de 20 caractere com o nome centralizado\n",
    "print(f\"mostrando x caractere {nome:=^20}\")# vai mostrar um espaço de 20 caractere com o nome centralizado como o caracter \"=\" nos espaços\n",
    "print('\\n')\n",
    "\n",
    "number = 3.333333333\n",
    "print(f\"mostrando x caractere {number:.3f}\", end='')# vai mostrar 3.333 e nao quebra a linha para o proximo print\n",
    "print(\"concatenar print\", end='')# nao quebra a linha para o proximo print\n",
    "print(\"concatenar \\n print\")# quebra de linha no meio do print"
   ]
  },
  {
   "cell_type": "code",
   "execution_count": 12,
   "metadata": {},
   "outputs": [],
   "source": [
    "# lendo valores\n",
    "nome = input('Qual seu nome?')"
   ]
  },
  {
   "attachments": {},
   "cell_type": "markdown",
   "metadata": {},
   "source": [
    "### Manipulando textos"
   ]
  },
  {
   "cell_type": "code",
   "execution_count": 13,
   "metadata": {},
   "outputs": [
    {
     "name": "stdout",
     "output_type": "stream",
     "text": [
      "r\n",
      "Curs\n",
      "Python\n",
      "Vide\n",
      "VePh\n",
      "Vd\n"
     ]
    },
    {
     "data": {
      "text/plain": [
       "'C-u-r-s-o- -e-m- -V-i-d-e-o- -P-y-t-h-o-n'"
      ]
     },
     "execution_count": 13,
     "metadata": {},
     "output_type": "execute_result"
    }
   ],
   "source": [
    "frase = 'Curso em Video Python'\n",
    "\n",
    "print(frase[2]) # r\n",
    "print(frase[:4]) # Curs\n",
    "print(frase[15:]) # Python\n",
    "print(frase[9:13]) # Vide\n",
    "print(frase[9::3]) # VePh\n",
    "print(frase[9:13:2]) # Vd  pulando de 2 em 2\n",
    "\n",
    "len(frase) # 21 caracteres\n",
    "\n",
    "frase.count('o') # 3, conta quantas vezes tem a letra 'o'\n",
    "frase.count('o', 0, 13) # 3, conta quantas vezes tem a letra 'o' entre o caractere 0 e 13\n",
    "frase.find('deo') # 11, mostra onde começa 'deo'\n",
    "frase.find('android') # -1, não encontrado\n",
    "\n",
    "'Curso' in frase # True\n",
    "\n",
    "frase.replace('Python', 'Android') # substitui\n",
    "frase.upper() # Maiuscula\n",
    "frase.lower() # Maiuscula\n",
    "frase.capitalize() # 'Curso em video python'\n",
    "frase.title() # 'Curso Em Video Python'\n",
    "frase.strip() # remove os espaços no inicio e no fim de uma string\n",
    "frase.rstrip() # remove os espaços no direito da string\n",
    "\n",
    "frase.split() # quebra a frase em um array\n",
    "'-'.join(frase) # 'Curso-em-Video-Python'"
   ]
  },
  {
   "cell_type": "code",
   "execution_count": 4,
   "metadata": {},
   "outputs": [
    {
     "name": "stdout",
     "output_type": "stream",
     "text": [
      "fulano.ciclano\n",
      "gmail.com\n"
     ]
    }
   ],
   "source": [
    "email = 'fulano.ciclano@gmail.com'\n",
    "\n",
    "posicao = email.find('@')\n",
    "nome = email[:posicao]\n",
    "servidor = email[posicao+1:]\n",
    "\n",
    "print(nome)\n",
    "print(servidor)\n"
   ]
  },
  {
   "attachments": {},
   "cell_type": "markdown",
   "metadata": {},
   "source": [
    "### IF"
   ]
  },
  {
   "cell_type": "code",
   "execution_count": null,
   "metadata": {},
   "outputs": [],
   "source": [
    "# res if format is False else moeda(preco)\n",
    "# retorna res como padrão se format for igual a false senão retorna o valor formatado"
   ]
  },
  {
   "attachments": {},
   "cell_type": "markdown",
   "metadata": {},
   "source": [
    "### For"
   ]
  },
  {
   "cell_type": "code",
   "execution_count": 1,
   "metadata": {},
   "outputs": [
    {
     "name": "stdout",
     "output_type": "stream",
     "text": [
      "0\n",
      "1\n",
      "2\n",
      "3\n",
      "4\n",
      "5\n",
      "6\n",
      "0\n",
      "2\n",
      "4\n",
      "6\n"
     ]
    },
    {
     "ename": "NameError",
     "evalue": "name 'n' is not defined",
     "output_type": "error",
     "traceback": [
      "\u001b[1;31m---------------------------------------------------------------------------\u001b[0m",
      "\u001b[1;31mNameError\u001b[0m                                 Traceback (most recent call last)",
      "\u001b[1;32mc:\\Users\\cadu\\Desktop\\Projetos\\Python_resumo\\Scripts.ipynb Cell 8\u001b[0m in \u001b[0;36m<cell line: 10>\u001b[1;34m()\u001b[0m\n\u001b[0;32m      <a href='vscode-notebook-cell:/c%3A/Users/cadu/Desktop/Projetos/Python_resumo/Scripts.ipynb#X10sZmlsZQ%3D%3D?line=5'>6</a>\u001b[0m     \u001b[39mprint\u001b[39m(c)\n\u001b[0;32m      <a href='vscode-notebook-cell:/c%3A/Users/cadu/Desktop/Projetos/Python_resumo/Scripts.ipynb#X10sZmlsZQ%3D%3D?line=6'>7</a>\u001b[0m \u001b[39m# 0 2 4 6   pula de 2 em dois\u001b[39;00m\n\u001b[0;32m      <a href='vscode-notebook-cell:/c%3A/Users/cadu/Desktop/Projetos/Python_resumo/Scripts.ipynb#X10sZmlsZQ%3D%3D?line=7'>8</a>\u001b[0m \n\u001b[0;32m      <a href='vscode-notebook-cell:/c%3A/Users/cadu/Desktop/Projetos/Python_resumo/Scripts.ipynb#X10sZmlsZQ%3D%3D?line=8'>9</a>\u001b[0m \u001b[39m# WHILE\u001b[39;00m\n\u001b[1;32m---> <a href='vscode-notebook-cell:/c%3A/Users/cadu/Desktop/Projetos/Python_resumo/Scripts.ipynb#X10sZmlsZQ%3D%3D?line=9'>10</a>\u001b[0m \u001b[39mwhile\u001b[39;00m n \u001b[39m!=\u001b[39m \u001b[39m0\u001b[39m:\n\u001b[0;32m     <a href='vscode-notebook-cell:/c%3A/Users/cadu/Desktop/Projetos/Python_resumo/Scripts.ipynb#X10sZmlsZQ%3D%3D?line=10'>11</a>\u001b[0m     n \u001b[39m=\u001b[39m \u001b[39mint\u001b[39m(\u001b[39minput\u001b[39m(\u001b[39m'\u001b[39m\u001b[39mDigite um numero: \u001b[39m\u001b[39m'\u001b[39m))\n\u001b[0;32m     <a href='vscode-notebook-cell:/c%3A/Users/cadu/Desktop/Projetos/Python_resumo/Scripts.ipynb#X10sZmlsZQ%3D%3D?line=11'>12</a>\u001b[0m \u001b[39mprint\u001b[39m(\u001b[39m'\u001b[39m\u001b[39mFim\u001b[39m\u001b[39m'\u001b[39m)\n",
      "\u001b[1;31mNameError\u001b[0m: name 'n' is not defined"
     ]
    }
   ],
   "source": [
    "for c in range(0, 7):\n",
    "    print(c)\n",
    "# 0 1 2 3 4 5 6 7\n",
    "\n",
    "for c in range(0, 7, 2):\n",
    "    print(c)\n",
    "# 0 2 4 6   pula de 2 em dois\n",
    "\n",
    "# WHILE\n",
    "while n != 0:\n",
    "    n = int(input('Digite um numero: '))\n",
    "print('Fim')"
   ]
  },
  {
   "cell_type": "code",
   "execution_count": 5,
   "metadata": {},
   "outputs": [
    {
     "name": "stdout",
     "output_type": "stream",
     "text": [
      "Item 0 iphone\n",
      "Item 1 ipad\n",
      "Item 2 airpod\n",
      "Item 3 macbook\n",
      "Item 4 apple watdh\n"
     ]
    }
   ],
   "source": [
    "lista = ['iphone', 'ipad', 'airpod', 'macbook', 'apple watdh']\n",
    "\n",
    "for i, item in enumerate(lista):\n",
    "    print('Item', i, item)"
   ]
  },
  {
   "attachments": {},
   "cell_type": "markdown",
   "metadata": {},
   "source": [
    "### Tuplas"
   ]
  },
  {
   "cell_type": "code",
   "execution_count": 15,
   "metadata": {},
   "outputs": [
    {
     "name": "stdout",
     "output_type": "stream",
     "text": [
      "eu vou comer Hamburguer\n",
      "eu vou comer Suco\n",
      "eu vou comer Pizza\n",
      "eu vou comer Pudim\n",
      "eu vou comer Batata frita\n",
      "eu vou comer ('Hamburguer', 'Suco', 'Pizza', 'Pudim', 'Batata frita')\n",
      "eu vou comer ('Hamburguer', 'Suco', 'Pizza', 'Pudim', 'Batata frita')\n",
      "eu vou comer ('Hamburguer', 'Suco', 'Pizza', 'Pudim', 'Batata frita')\n",
      "eu vou comer ('Hamburguer', 'Suco', 'Pizza', 'Pudim', 'Batata frita')\n",
      "eu vou comer ('Hamburguer', 'Suco', 'Pizza', 'Pudim', 'Batata frita')\n",
      "eu vou comer ('Hamburguer', 'Suco', 'Pizza', 'Pudim', 'Batata frita')\n",
      "eu vou comer ('Hamburguer', 'Suco', 'Pizza', 'Pudim', 'Batata frita')\n",
      "eu vou comer ('Hamburguer', 'Suco', 'Pizza', 'Pudim', 'Batata frita')\n",
      "eu vou comer ('Hamburguer', 'Suco', 'Pizza', 'Pudim', 'Batata frita')\n",
      "eu vou comer ('Hamburguer', 'Suco', 'Pizza', 'Pudim', 'Batata frita')\n",
      "('Hamburguer', 'Suco')\n",
      "(5, 8, 1, 2, 2, 5, 4)\n",
      "2\n",
      "1\n"
     ]
    }
   ],
   "source": [
    "# Tuplas são imutaveis\n",
    "lanche = ('Hamburguer', 'Suco', 'Pizza', 'Pudim', 'Batata frita')\n",
    "\n",
    "for cont in range(0, len(lanche)):\n",
    "    print(f'eu vou comer {lanche[cont]}')\n",
    "\n",
    "for cont in lanche:\n",
    "    print(f'eu vou comer {lanche}')\n",
    "\n",
    "for pos, cont in enumerate(lanche):\n",
    "    print(f'eu vou comer {lanche}')\n",
    "\n",
    "print(lanche[:2]) # ('Hamburguer', 'Suco')\n",
    "\n",
    "a = (2, 5, 4)\n",
    "b = (5, 8, 1, 2)\n",
    "c = b + a\n",
    "print(c) # (5, 8, 1, 2, 2, 5, 4)\n",
    "print(c.count(5)) # 2      mostra quantas vezes aparece o numero 5 dentro da tuppla\n",
    "print(c.index(8)) # 1      mostra a posição do elemnto"
   ]
  },
  {
   "attachments": {},
   "cell_type": "markdown",
   "metadata": {},
   "source": [
    "### Listas"
   ]
  },
  {
   "cell_type": "code",
   "execution_count": 16,
   "metadata": {},
   "outputs": [],
   "source": [
    "lista1 = list()\n",
    "lista2 = []\n",
    "\n",
    "num = [2, 5, 9, 1]\n",
    "\n",
    "num.append(7) # vai add o numero 7 no fim\n",
    "\n",
    "num.sort() # ordem crescente\n",
    "num.sort(reverse=True) # ordem decrescente\n",
    "len(num) # quantos elementos tem\n",
    "num.insert(2, 0) # num.insert(posição, valor)\n",
    "num.pop() # elimina o ultimo valor\n",
    "num.pop(2) # elimina elemento da posição 2\n",
    "num.remove(2) # elimina o primeiro elemento 2 que encontra\n",
    "\n",
    "if 4 in num:\n",
    "    num.remove(4)\n",
    "\n",
    "a = [2, 3, 4, 7]\n",
    "b = a # uma ligação entre as duas\n",
    "b = a[:] # um clone"
   ]
  },
  {
   "cell_type": "code",
   "execution_count": 17,
   "metadata": {},
   "outputs": [
    {
     "name": "stdout",
     "output_type": "stream",
     "text": [
      "[3, 3, 3]\n"
     ]
    }
   ],
   "source": [
    "names = [\n",
    "    'Daniel',\n",
    "    'Mike',\n",
    "    'William'\n",
    "]\n",
    "\n",
    "# List Comprehension\n",
    "length = [len(names) for name in names]\n",
    "\n",
    "print(length)"
   ]
  },
  {
   "cell_type": "code",
   "execution_count": null,
   "metadata": {},
   "outputs": [],
   "source": [
    "nomes = [\n",
    "    'Daniel',\n",
    "    'Mike',\n",
    "    'William'\n",
    "]\n",
    "\n",
    "novos_nomes = [\n",
    "    'Daniel',\n",
    "    'Mike',\n",
    "    'William'\n",
    "]\n",
    "\n",
    "# jeito 1\n",
    "for item in novos_nomes:\n",
    "    nomes.append(item)\n",
    "\n",
    "\n",
    "# jeito 2\n",
    "nomes.extend(novos_nomes)"
   ]
  },
  {
   "cell_type": "code",
   "execution_count": 1,
   "metadata": {},
   "outputs": [
    {
     "name": "stdout",
     "output_type": "stream",
     "text": [
      "['ipad', 'iphone', 'airpod']\n"
     ]
    }
   ],
   "source": [
    "produtos = [\n",
    "    'ipad',\n",
    "    'airpod',\n",
    "    'iphone'\n",
    "]\n",
    "\n",
    "vendas = {\n",
    "    'ipad': 500,\n",
    "    'airpod': 1000,\n",
    "    'watch': 2500,\n",
    "    'macbook': 50,\n",
    "    'iphone': 750\n",
    "}\n",
    "\n",
    "ordenada = sorted(produtos, key=vendas.get)\n",
    "print(ordenada)"
   ]
  },
  {
   "attachments": {},
   "cell_type": "markdown",
   "metadata": {},
   "source": [
    "### Dicionario"
   ]
  },
  {
   "cell_type": "code",
   "execution_count": 18,
   "metadata": {},
   "outputs": [
    {
     "name": "stdout",
     "output_type": "stream",
     "text": [
      "dict_values(['carlos', 7, 'Aprovado'])\n",
      "dict_keys(['nome', 'media', 'situacao'])\n",
      "dict_items([('nome', 'carlos'), ('media', 7), ('situacao', 'Aprovado')])\n",
      " - nome é igual a carlos\n",
      " - situacao é igual a Aprovado\n"
     ]
    }
   ],
   "source": [
    "dicionario1 = dict()\n",
    "dicionario2 = {}\n",
    "\n",
    "dicionario2['nome'] = 'carlos'\n",
    "dicionario2['media'] = 7\n",
    "dicionario2['situacao'] = 'Aprovado'\n",
    "\n",
    "dicionario1 = {\n",
    "    'titulo': 'star wars',\n",
    "    'ano': 1977,\n",
    "    'diretor': 'george lucas'\n",
    "}\n",
    "\n",
    "filme = dicionario1.copy() # para copiar um dicionario nao se usa [:] e sim o copy()\n",
    "\n",
    "print(dicionario2.values()) # carlos, 7, aprovado\n",
    "print(dicionario2.keys()) # nome, media, situacao\n",
    "print(dicionario2.items()) # keys e values\n",
    "\n",
    "del dicionario2['media'] # apaga um item inteiro\n",
    "for k, v in dicionario2.items():\n",
    "    print(f' - {k} é igual a {v}')\n",
    "# - nome é igual a carlos\n",
    "# - situacao é igual a Aprovado"
   ]
  },
  {
   "cell_type": "code",
   "execution_count": 19,
   "metadata": {},
   "outputs": [
    {
     "name": "stdout",
     "output_type": "stream",
     "text": [
      "{'Daniel': 3, 'Mike': 3, 'William': 3}\n"
     ]
    }
   ],
   "source": [
    "names = [\n",
    "    'Daniel',\n",
    "    'Mike',\n",
    "    'William'\n",
    "]\n",
    "\n",
    "# Dictionary Comprehension\n",
    "length = {name:len(names) for name in names}\n",
    "\n",
    "print(length)"
   ]
  },
  {
   "attachments": {},
   "cell_type": "markdown",
   "metadata": {},
   "source": [
    "### Função"
   ]
  },
  {
   "cell_type": "code",
   "execution_count": null,
   "metadata": {},
   "outputs": [],
   "source": [
    "# FUNÇÃO\n",
    "# dica, abaixo das def sempre tem que ter 2x enter\n",
    "\n",
    "\n",
    "def mostraLinha(msg):\n",
    "    print('-' * 30)\n",
    "    print(msg)\n",
    "    print('-' * 30)\n",
    "\n",
    "\n",
    "def contador(*num): # o * significa que vai receber varios parametros\n",
    "    tam = len(num)\n",
    "    print(f'Recebi os valores {num} e sao ao todo {tam} numeros')\n",
    "\n",
    "\n",
    "mostraLinha('carlos')\n",
    "contador(1, 2, 3, 4, 5) # Recebi os valores (1, 2, 3, 4, 5) e sao ao todo 5 numeros\n",
    "\n",
    "# ===============================================================================================================================\n",
    "# FUNÇÃO parte 2\n",
    "\n",
    "# para obter ajuda sobre parametros das funções do python basta abrir o 'Python Console' na parte inferior esquerda do pyCharm\n",
    "# digitar help() e em seguida o nome da função sem os parenteses\n",
    "# apos obter a ajuda basta digitar o comando quit\n",
    "\n",
    "# para utilizar o help em suas funções basta usar o docstring logo abaixo do def das funções\n",
    "\n",
    "\n",
    "def contador(i, f, p):\n",
    "    \"\"\"\n",
    "    -> Faz uma contagem e mostra na tela.\n",
    "    :param i: inicio da contagem\n",
    "    :param f: fim da contagem\n",
    "    :param p: passo da contagem\n",
    "    :return: sem retorno\n",
    "    \"\"\"\n",
    "    c = i\n",
    "    while c <= f:\n",
    "        print(f'{c}', end='..')\n",
    "        c += p\n",
    "    print('FIM')\n",
    "\n",
    "\n",
    "help(contador) # vai mostrar o docstring do python\n",
    "\n",
    "\n",
    "def soma(a=0, b=0, c=0): # igualar o parametro a algum valor torna esse parametro opcional\n",
    "    s = a + b + c\n",
    "    print(s)\n",
    "\n",
    "# vareaveis criadas dentro de funções vale dentro apenas da função, tendo escopo local"
   ]
  },
  {
   "cell_type": "code",
   "execution_count": 9,
   "metadata": {},
   "outputs": [
    {
     "name": "stdout",
     "output_type": "stream",
     "text": [
      "100.0\n",
      "100.0\n"
     ]
    }
   ],
   "source": [
    "preco = 1000\n",
    "\n",
    "def imposto(x):\n",
    "    return x * 0.1\n",
    "\n",
    "print(imposto(preco))\n",
    "\n",
    "# (lambda <parametro>: <operação pra retornar>)(<valor do parametro>)\n",
    "print((lambda x: x * 0.1)(preco))"
   ]
  },
  {
   "attachments": {},
   "cell_type": "markdown",
   "metadata": {},
   "source": [
    "### Modulos nativos"
   ]
  },
  {
   "cell_type": "code",
   "execution_count": null,
   "metadata": {},
   "outputs": [],
   "source": [
    "import math # importa todas as funcoes da biblioteca de matematica do python\n",
    "from math import sqrt # importa apenas sqrt dentro da biblioteca math\n",
    "\n",
    "math.sqrt(9)"
   ]
  },
  {
   "cell_type": "code",
   "execution_count": 3,
   "metadata": {},
   "outputs": [
    {
     "name": "stdout",
     "output_type": "stream",
     "text": [
      "['.34362566ed384186bf290693ee556fca6accfdfe.parts', '.5a2c1b5324568266cee7b3b7fa87fc56cbda8751.parts', '.a1232d201a01c34235cf759dae5eaec67af6863a.parts', '.de324071cbce0cea29bdb2434d22773ce894b238.parts', '.eadf812fff1d9f1200aa87ab93daee6b40f96c33.parts', 'Apartamentos', 'Captura de Tela (80).png', 'desktop.ini']\n"
     ]
    }
   ],
   "source": [
    "import os \n",
    "\n",
    "arquivos = os.listdir(r\"C:/Users/cadu/Downloads\")\n",
    "\n",
    "print(arquivos)"
   ]
  },
  {
   "cell_type": "code",
   "execution_count": null,
   "metadata": {},
   "outputs": [],
   "source": [
    "import os\n",
    "# confere se tem o arquivo file.json, se tiver, remove\n",
    "if os.path.isfile(\"path/to/config/file.json\"):\n",
    "    os.remove(\"path/to/config/file.json\")"
   ]
  },
  {
   "attachments": {},
   "cell_type": "markdown",
   "metadata": {},
   "source": [
    "### Files"
   ]
  },
  {
   "cell_type": "code",
   "execution_count": 6,
   "metadata": {},
   "outputs": [
    {
     "name": "stdout",
     "output_type": "stream",
     "text": [
      "Avocados are a fruit!!!\n"
     ]
    }
   ],
   "source": [
    "# Dessa forma é necessário explicitamente fechar o arquivo\n",
    "f = open('text.txt')\n",
    "text = f.read()\n",
    "f.close()\n",
    "\n",
    "print(text)"
   ]
  },
  {
   "cell_type": "code",
   "execution_count": 7,
   "metadata": {},
   "outputs": [
    {
     "name": "stdout",
     "output_type": "stream",
     "text": [
      "Avocados are a fruit!!!\n"
     ]
    }
   ],
   "source": [
    "with open('text.txt') as f:\n",
    "    text = f.read()\n",
    "    print(text)"
   ]
  },
  {
   "attachments": {},
   "cell_type": "markdown",
   "metadata": {},
   "source": [
    "### Módulos(classes) e Pacotes(Bibliotecas)"
   ]
  },
  {
   "cell_type": "code",
   "execution_count": 6,
   "metadata": {},
   "outputs": [],
   "source": [
    "# test.py>\n",
    "\n",
    "# function\n",
    "def displayText():\n",
    "    print('Geeks 4 Geeks !')"
   ]
  },
  {
   "cell_type": "code",
   "execution_count": 7,
   "metadata": {},
   "outputs": [
    {
     "name": "stdout",
     "output_type": "stream",
     "text": [
      "Geeks 4 Geeks !\n"
     ]
    }
   ],
   "source": [
    "# importing all the functions defined in the test.py\n",
    "from test import *\n",
    "\n",
    "# calling functions\n",
    "displayText()"
   ]
  },
  {
   "attachments": {},
   "cell_type": "markdown",
   "metadata": {},
   "source": [
    "### Cores no terminal"
   ]
  },
  {
   "cell_type": "code",
   "execution_count": null,
   "metadata": {},
   "outputs": [],
   "source": [
    "# para colocar cores no terminal é necessario utilizar o codigo scape ANSI \\033[style;text;backm\n",
    "\n",
    "# codigos para style\n",
    "# 0 = none = nenhum\n",
    "# 1 = bold = negrito\n",
    "# 4 = underline = sublinhado\n",
    "# 7 = negative = inverte\n",
    "\n",
    "# codigos para cores\n",
    "# 30 = branco\n",
    "# 31 = vermelho\n",
    "# 32 = verde\n",
    "# 33 = amarelo\n",
    "# 34 = azul\n",
    "# 35 = roxo\n",
    "# 36 = azul claro\n",
    "# 37 = cinza\n",
    "\n",
    "# codigos para cores de fundo\n",
    "# 40 = branco\n",
    "# 41 = vermelho\n",
    "# 42 = verde\n",
    "# 43 = amarelo\n",
    "# 44 = azul\n",
    "# 45 = roxo\n",
    "# 46 = azul claro\n",
    "# 47 = cinza\n",
    "\n",
    "\n",
    "print('\\033[31mteste em \\033[m')\n",
    "print('\\033[0;30;41mteste em \\033[m')\n",
    "print('\\033[4;33;44mteste em \\033[m')\n",
    "print('\\033[1;35;43mteste em \\033[m')\n",
    "print('\\033[30;42mteste em \\033[m')\n",
    "print('\\033[mteste em \\033[m')\n",
    "print('\\033[7;30mteste em \\033[m')"
   ]
  },
  {
   "attachments": {},
   "cell_type": "markdown",
   "metadata": {},
   "source": [
    "# MUNDO 1"
   ]
  },
  {
   "attachments": {},
   "cell_type": "markdown",
   "metadata": {},
   "source": [
    "ex001 - como criar um projeto Python no PyCharm e deixar tudo preparado para receber os exercícios da série,"
   ]
  },
  {
   "cell_type": "code",
   "execution_count": null,
   "metadata": {},
   "outputs": [],
   "source": [
    "msg = 'Olá Mundo!!'\n",
    "print(msg)"
   ]
  },
  {
   "attachments": {},
   "cell_type": "markdown",
   "metadata": {},
   "source": [
    "ex002 - Faça um programa que leia o nome de uma pessoa e mostre uma mensagem de boas-vindas."
   ]
  },
  {
   "cell_type": "code",
   "execution_count": null,
   "metadata": {},
   "outputs": [],
   "source": [
    "nome = input('Qual seu nome? ')\n",
    "# print('Praser de conhecer ',nome)\n",
    "print('Praser te conhecer {}!'.format(nome))"
   ]
  },
  {
   "attachments": {},
   "cell_type": "markdown",
   "metadata": {},
   "source": [
    "ex003 - Crie um programa que leia dois números e mostre a soma entre eles."
   ]
  },
  {
   "cell_type": "code",
   "execution_count": null,
   "metadata": {},
   "outputs": [],
   "source": [
    "# Crie um programa que leia dois numeros e mostra a soma entre eles\n",
    "\n",
    "n1 = int(input('digite o primeiro numero: '))\n",
    "n2 = int(input('digite o segundo numero: '))\n",
    "\n",
    "n3 = n1 + n2\n",
    "\n",
    "print('a soma de {} + {} = {}'.format(n1, n2, n3))"
   ]
  },
  {
   "attachments": {},
   "cell_type": "markdown",
   "metadata": {},
   "source": [
    "ex004 - Faça um programa que leia algo pelo teclado e mostre na tela o seu tipo primitivo e todas as informações possíveis sobre ele."
   ]
  },
  {
   "cell_type": "code",
   "execution_count": null,
   "metadata": {},
   "outputs": [],
   "source": [
    "# faça um programa que leia algo pelo teclado e mostre\n",
    "# na tela o seu tipo primitivo e todas as informações\n",
    "# possiveis sobre ele.\n",
    "\n",
    "var = input('digite qualquer coisa: ')\n",
    "\n",
    "print('O tipo primitivo do valor digitado é {}'.format(type(var)))\n",
    "print('')\n",
    "print('O valor é alfanumerico? ...........{}'.format(var.isalnum()))\n",
    "print('O valor é alfabético? .............{}'.format(var.isalpha()))\n",
    "print('O valor é numerico? ...............{}'.format(var.isnumeric()))\n",
    "print('O valor é decimal? ................{}'.format(var.isdecimal()))\n",
    "print('O valor é minúsculas? .............{}'.format(var.islower()))\n",
    "print('O valor é maiúsculas? .............{}'.format(var.isupper()))\n",
    "print('O valor é Capitalizada? ...........{}'.format(var.istitle()))\n",
    "print('O valor é somente espaços? ........{}'.format(var.isspace()))\n",
    "print('O valor é ASCII? ..................{}'.format(var.isascii()))\n",
    "print('O valor é digit? ..................{}'.format(var.isdigit()))\n",
    "print('O valor é valid Python identifier? {}'.format(var.isidentifier()))\n",
    "print('O valor é printable? ..............{}'.format(var.isprintable()))"
   ]
  },
  {
   "attachments": {},
   "cell_type": "markdown",
   "metadata": {},
   "source": [
    "ex005 - Faça um programa que leia um número Inteiro e mostre na tela o seu sucessor e seu antecessor."
   ]
  },
  {
   "cell_type": "code",
   "execution_count": null,
   "metadata": {},
   "outputs": [],
   "source": [
    "num = int(input('Digite um numero: '))\n",
    "\n",
    "print('Dado o numero{}, seu antecessor é {} e seu sucessor é {}'.format(num, num - 1, num + 1))"
   ]
  },
  {
   "attachments": {},
   "cell_type": "markdown",
   "metadata": {},
   "source": [
    "ex006 - Crie um algoritmo que leia um número e mostre o seu dobro, triplo e raiz quadrada."
   ]
  },
  {
   "cell_type": "code",
   "execution_count": null,
   "metadata": {},
   "outputs": [],
   "source": [
    "num = int(input('Digite um numero: '))\n",
    "\n",
    "print('O dobro de {} é {}\\nO triplo de {} é {}\\nA raiz quadrada de {} é {}'.format(num,(num*2),num,(num*3),num,num**(1/2)))"
   ]
  },
  {
   "attachments": {},
   "cell_type": "markdown",
   "metadata": {},
   "source": [
    "ex007 - Desenvolva um programa que leia as duas notas de um aluno, calcule e mostre a sua média."
   ]
  },
  {
   "cell_type": "code",
   "execution_count": null,
   "metadata": {},
   "outputs": [],
   "source": [
    "from random import choice\n",
    "\n",
    "n1 = str(input('Primeiro aluno: '))\n",
    "n2 = str(input('Segundo aluno: '))\n",
    "n3 = str(input('Terceiro aluno: '))\n",
    "n4 = str(input('Quarto aluno: '))\n",
    "\n",
    "lista = [n1, n2, n3, n4]\n",
    "\n",
    "escolhido = choice(lista)\n",
    "\n",
    "print('O aluno escolhido foi {}'.format(escolhido))"
   ]
  },
  {
   "attachments": {},
   "cell_type": "markdown",
   "metadata": {},
   "source": [
    "ex008 - Escreva um programa que leia um valor em metros e o exiba convertido em centímetros e milímetros."
   ]
  },
  {
   "cell_type": "code",
   "execution_count": null,
   "metadata": {},
   "outputs": [],
   "source": [
    "medida = float(input('Digite a distancia em metros: '))\n",
    "cm = medida * 100\n",
    "mm = medida * 1000\n",
    "\n",
    "print('{:.0f}cm\\n{:.0f}mm'.format(cm,mm))\n"
   ]
  },
  {
   "attachments": {},
   "cell_type": "markdown",
   "metadata": {},
   "source": [
    "ex009 - Faça um programa que leia um número Inteiro qualquer e mostre na tela a sua tabuada."
   ]
  },
  {
   "cell_type": "code",
   "execution_count": null,
   "metadata": {},
   "outputs": [],
   "source": [
    "n = int(input('Digite um numero para mostrar sua tabuada: '))\n",
    "print('=============')\n",
    "print('{} x {} = {}'.format(n,1,n*1))\n",
    "print('{} x {} = {}'.format(n,2,n*2))\n",
    "print('{} x {} = {}'.format(n,3,n*3))\n",
    "print('{} x {} = {}'.format(n,4,n*4))\n",
    "print('{} x {} = {}'.format(n,5,n*5))\n",
    "print('{} x {} = {}'.format(n,6,n*6))\n",
    "print('{} x {} = {}'.format(n,7,n*7))\n",
    "print('{} x {} = {}'.format(n,8,n*8))\n",
    "print('{} x {} = {}'.format(n,9,n*9))\n",
    "print('{} x {} = {}'.format(n,10,n*10))\n",
    "print('=============')\n"
   ]
  },
  {
   "attachments": {},
   "cell_type": "markdown",
   "metadata": {},
   "source": [
    "ex010 - Crie um programa que leia quanto dinheiro uma pessoa tem na carteira e mostre quantos dólares ela pode comprar."
   ]
  },
  {
   "cell_type": "code",
   "execution_count": null,
   "metadata": {},
   "outputs": [],
   "source": [
    "real = float(input('Quanto vc tem na carteira: R$ '))\n",
    "\n",
    "# considere 1 US$ = R$ 3,27\n",
    "dolar = real / 3.27\n",
    "\n",
    "print('Com R$ {:.2f} voce pode comprar US$ {:.2f}'.format(real, dolar))"
   ]
  },
  {
   "attachments": {},
   "cell_type": "markdown",
   "metadata": {},
   "source": [
    "ex011 - Faça um programa que leia a largura e a altura de uma parede em metros,\n",
    "        calcule a sua área e a quantidade de tinta necessária para pintá-la,\n",
    "        sabendo que cada litro de tinta pinta uma área de 2 metros quadrados."
   ]
  },
  {
   "cell_type": "code",
   "execution_count": null,
   "metadata": {},
   "outputs": [],
   "source": [
    "largura = float(input('Digite a largura parede: '))\n",
    "altura = float(input('Digite a altura parede: '))\n",
    "\n",
    "area = (largura * altura)\n",
    "\n",
    "# considere 1 litro de tinta para cada 2 metros\n",
    "l = area / 2\n",
    "\n",
    "print('Sua parede tem a dimensão de {} x {} e sua area é de {}m².'.format(largura, altura, area))\n",
    "print('Para pintar essa parede, voce precisa de {}L de tinta.'.format(l))"
   ]
  },
  {
   "attachments": {},
   "cell_type": "markdown",
   "metadata": {},
   "source": [
    "ex012 - Faça um algoritmo que leia o preço de um produto e mostre seu novo preço, com 5% de desconto.\n"
   ]
  },
  {
   "cell_type": "code",
   "execution_count": null,
   "metadata": {},
   "outputs": [],
   "source": [
    "valor = float(input('Digite o valor do produto: '))\n",
    "\n",
    "# considere 5% de desconto\n",
    "novoValor = valor - (valor * 5 / 100)\n",
    "\n",
    "print('O produto que custava R$ {}, na promoção de 5% vai custar R$ {:.2f}'.format(valor, novoValor))"
   ]
  },
  {
   "attachments": {},
   "cell_type": "markdown",
   "metadata": {},
   "source": [
    "ex013 - Faça um algoritmo que leia o salário de um funcionário e mostre seu novo salário, com 15% de aumento.\n"
   ]
  },
  {
   "cell_type": "code",
   "execution_count": null,
   "metadata": {},
   "outputs": [],
   "source": [
    "valor = float(input('Digite o salario: '))\n",
    "\n",
    "# considere 15% de desconto\n",
    "novoValor = valor + (valor * 15 / 100)\n",
    "\n",
    "print('O salario de R$ {}, com 15% de descondo, vai custar R$ {:.2f}'.format(valor, novoValor))"
   ]
  },
  {
   "attachments": {},
   "cell_type": "markdown",
   "metadata": {},
   "source": [
    "ex014 - Escreva um programa que converta uma temperatura digitando em graus Celsius e converta para graus Fahrenheit.\n"
   ]
  },
  {
   "cell_type": "code",
   "execution_count": null,
   "metadata": {},
   "outputs": [],
   "source": [
    "c = float(input('Digite a temperatura em C: '))\n",
    "\n",
    "f = ((9 * c) / 5) + 32\n",
    "\n",
    "print('A temperatura de {}, corresponde a {} F'.format(c, f))"
   ]
  },
  {
   "attachments": {},
   "cell_type": "markdown",
   "metadata": {},
   "source": [
    "ex015 - Escreva um programa que pergunte a quantidade de Km percorridos por um carro alugado\n",
    "        e a quantidade de dias pelos quais ele foi alugado. Calcule o preço a pagar,\n",
    "        sabendo que o carro custa R$60 por dia e R$0,15 por Km rodado."
   ]
  },
  {
   "cell_type": "code",
   "execution_count": null,
   "metadata": {},
   "outputs": [],
   "source": [
    "dias = int(input('Quantos dias alugado: '))\n",
    "km = int(input('Quantos Km rodados: '))\n",
    "\n",
    "# considere R$ 60,00 o dia e R$ 0,15 por km\n",
    "\n",
    "total = (dias * 60) + (km * 0.15)\n",
    "\n",
    "print('O total a pagar é R$ {:.2f}'.format(total))"
   ]
  },
  {
   "attachments": {},
   "cell_type": "markdown",
   "metadata": {},
   "source": [
    "ex016 - Crie um programa que leia um número Real qualquer pelo teclado e mostre na tela a sua porção Inteira.\n"
   ]
  },
  {
   "cell_type": "code",
   "execution_count": null,
   "metadata": {},
   "outputs": [],
   "source": [
    "# import math\n",
    "from math import trunc\n",
    "num = float(input('Digite um numero: '))\n",
    "\n",
    "print('O valor digitado foi {} e a sua porção inteira é {}'.format(num, trunc(num)))\n",
    "print('O valor digitado foi {} e a sua porção inteira é {}'.format(num, int(num)))\n",
    "# print('O valor digitado foi {} e a sua porção inteira é {}'.format(num, math.trunc(num)))\n"
   ]
  },
  {
   "attachments": {},
   "cell_type": "markdown",
   "metadata": {},
   "source": [
    "ex017 - Faça um programa que leia o comprimento do cateto oposto e do cateto adjacente de um triângulo retângulo.\n",
    "        Calcule e mostre o comprimento da hipotenusa.\n"
   ]
  },
  {
   "cell_type": "code",
   "execution_count": null,
   "metadata": {},
   "outputs": [],
   "source": [
    "# Maneira matematica de se resolver\n",
    "# co = float(input('Digite o cateto oposto: '))\n",
    "# ca = float(input('Digite o cateto adjacente: '))\n",
    "#\n",
    "# hi = (co ** 2 + ca ** 2) ** (1/2)\n",
    "#\n",
    "# print('A hipotenuza vai medir {:.2f}'.format(hi))\n",
    "\n",
    "from math import hypot\n",
    "co = float(input('Digite o cateto oposto: '))\n",
    "ca = float(input('Digite o cateto adjacente: '))\n",
    "\n",
    "hi = hypot(co, ca)\n",
    "\n",
    "print('A hipotenuza vai medir {:.2f}'.format(hi))\n"
   ]
  },
  {
   "attachments": {},
   "cell_type": "markdown",
   "metadata": {},
   "source": [
    "ex018 - Faça um programa que leia um ângulo qualquer e mostre na tela o valor do seno, cosseno e tangente desse ângulo."
   ]
  },
  {
   "cell_type": "code",
   "execution_count": null,
   "metadata": {},
   "outputs": [],
   "source": [
    "# SENO = eixo vertical\n",
    "# COSSENO = eixo horizontal\n",
    "\n",
    "from math import sin, cos, radians, tan\n",
    "\n",
    "angulo = float(input('Digite o angulo que deseja calcular: '))\n",
    "\n",
    "seno = sin(radians(angulo))\n",
    "print('O angulo de {} tem o SENO de {:.2f}'.format(angulo, seno))\n",
    "\n",
    "cosseno = cos(radians(angulo))\n",
    "print('O angulo de {} tem o COSSENO de {:.2f}'.format(angulo, cosseno))\n",
    "\n",
    "tangente = tan(radians(angulo))\n",
    "print('O angulo de {} tem o TANGENTE de {:.2f}'.format(angulo, tangente))"
   ]
  },
  {
   "attachments": {},
   "cell_type": "markdown",
   "metadata": {},
   "source": [
    "ex019 - Um professor quer sortear um dos seus quatro alunos para apagar o quadro. Faça um programa que ajude ele,\n",
    "        lendo o nome dos alunos e escrevendo na tela o nome do escolhido."
   ]
  },
  {
   "cell_type": "code",
   "execution_count": null,
   "metadata": {},
   "outputs": [],
   "source": [
    "from random import choice\n",
    "\n",
    "n1 = str(input('Primeiro aluno: '))\n",
    "n2 = str(input('Segundo aluno: '))\n",
    "n3 = str(input('Terceiro aluno: '))\n",
    "n4 = str(input('Quarto aluno: '))\n",
    "\n",
    "lista = [n1, n2, n3, n4]\n",
    "\n",
    "escolhido = choice(lista)\n",
    "\n",
    "print('O aluno escolhido foi {}'.format(escolhido))"
   ]
  },
  {
   "attachments": {},
   "cell_type": "markdown",
   "metadata": {},
   "source": [
    "ex020 - O mesmo professor do desafio 019 quer sortear a ordem de apresentação de trabalhos dos alunos.\n",
    "        Faça um programa que leia o nome dos quatro alunos e mostre a ordem sorteada."
   ]
  },
  {
   "cell_type": "code",
   "execution_count": null,
   "metadata": {},
   "outputs": [],
   "source": [
    "from random import shuffle\n",
    "\n",
    "n1 = str(input('Primeiro aluno: '))\n",
    "n2 = str(input('Segundo aluno: '))\n",
    "n3 = str(input('Terceiro aluno: '))\n",
    "n4 = str(input('Quarto aluno: '))\n",
    "\n",
    "lista = [n1, n2, n3, n4]\n",
    "\n",
    "shuffle(lista)\n",
    "\n",
    "print('O aluno escolhido foi {}'.format(lista))"
   ]
  },
  {
   "attachments": {},
   "cell_type": "markdown",
   "metadata": {},
   "source": [
    "ex021 - Faça um programa em Python que abra e reproduza o áudio de um arquivo MP3."
   ]
  },
  {
   "cell_type": "code",
   "execution_count": null,
   "metadata": {},
   "outputs": [],
   "source": [
    "# No Pycharm:\n",
    "# File > Settings > Project: \"Nome do seu projeto\" > Project Interpreter\n",
    "#\n",
    "# Clica no pip da lista e no triângulo para dar upgrade. Faça o mesmo com o setuptools.\n",
    "# Depois vá no \"+\", e digite no campo de pesquisa \"pygame\", clique em \"install package\". Espere.\n",
    "# Assim deve funcionar.\n",
    "\n",
    "import pygame\n",
    "\n",
    "pygame.mixer.init()\n",
    "pygame.init()\n",
    "pygame.mixer.music.load('ex021.mp3')\n",
    "pygame.mixer.music.play()\n",
    "pygame.event.wait()\n"
   ]
  },
  {
   "attachments": {},
   "cell_type": "markdown",
   "metadata": {},
   "source": [
    "ex022 - Crie um programa que leia o nome completo de uma pessoa e mostre:\n",
    "        - O nome com todas as letras maiúsculas e minúsculas.\n",
    "        - Quantas letras ao todo (sem considerar espaços).\n",
    "        - Quantas letras tem o primeiro nome."
   ]
  },
  {
   "cell_type": "code",
   "execution_count": null,
   "metadata": {},
   "outputs": [],
   "source": [
    "# Crie um programa que leia o nome completo de uma pessoa e mostre:\n",
    "# # - O nome com todas as letras maiúsculas e minúsculas.\n",
    "# # - Quantas letras ao todo (sem considerar espaços).\n",
    "\n",
    "nome = input('Digite seu nome completo: ')\n",
    "\n",
    "print('Maiusculas: {}'.format(nome.upper()))\n",
    "print('Minusculas: {}'.format(nome.lower()))\n",
    "print('o total de letras ao todo sem espaços é: {}'.format(len(nome) - nome.count(' ')))"
   ]
  },
  {
   "attachments": {},
   "cell_type": "markdown",
   "metadata": {},
   "source": [
    "ex023 - Faça um programa que leia um número de 0 a 9999 e mostre na tela cada um dos dígitos separados."
   ]
  },
  {
   "cell_type": "code",
   "execution_count": null,
   "metadata": {},
   "outputs": [],
   "source": [
    "num = int(input('Digite um numero inteiro: '))\n",
    "\n",
    "u = num // 1 % 10\n",
    "d = num // 10 % 10\n",
    "c = num // 100 % 10\n",
    "m = num // 1000 % 10\n",
    "\n",
    "print('Unidade: {}'.format(u))\n",
    "print('Dezena: {}'.format(d))\n",
    "print('Centena: {}'.format(c))\n",
    "print('Milhar: {}'.format(m))\n",
    "\n",
    "# n = str(num)\n",
    "# print('Unidade: {}'.format(n[3]))\n",
    "# print('Dezena: {}'.format(n[2]))\n",
    "# print('Centena: {}'.format(n[1]))\n",
    "# print('Milhar: {}'.format(n[0]))"
   ]
  },
  {
   "attachments": {},
   "cell_type": "markdown",
   "metadata": {},
   "source": [
    "ex024 - Crie um programa que leia o nome de uma cidade diga se ela começa ou não com o nome \"SANTO\".\n"
   ]
  },
  {
   "cell_type": "code",
   "execution_count": null,
   "metadata": {},
   "outputs": [],
   "source": [
    "city = input('Digite a cidade que nasceu: ').strip()\n",
    "\n",
    "# aux = city.split()\n",
    "# aux = aux[0].upper()\n",
    "#\n",
    "# print(aux == 'SANTO')\n",
    "print(city[:5].upper() == 'SANTO')"
   ]
  },
  {
   "attachments": {},
   "cell_type": "markdown",
   "metadata": {},
   "source": [
    "ex025 - Crie um programa que leia o nome de uma pessoa e diga se ela tem \"SILVA\" no nome.\n"
   ]
  },
  {
   "cell_type": "code",
   "execution_count": null,
   "metadata": {},
   "outputs": [],
   "source": [
    "nome = input('Digite seu nome: ')\n",
    "\n",
    "print('SILVA' in nome.upper())"
   ]
  },
  {
   "attachments": {},
   "cell_type": "markdown",
   "metadata": {},
   "source": [
    "ex026 - Faça um programa que leia uma frase pelo teclado e mostre quantas vezes aparece a letra \"A\",\n",
    "        em que posição ela aparece a primeira vez e em que posição ela aparece a última vez."
   ]
  },
  {
   "cell_type": "code",
   "execution_count": null,
   "metadata": {},
   "outputs": [],
   "source": [
    "frase = input('Digite uma frase: ').lower().strip()\n",
    "\n",
    "print('A letra A aparece {} vezes'.format(frase.count('a')))\n",
    "print('A primeira letra A aparece na posição {}'.format(frase.find('a') + 1))\n",
    "print('A ultima letra A aparece na posição {}'.format(frase.rfind('a') + 1))\n"
   ]
  },
  {
   "attachments": {},
   "cell_type": "markdown",
   "metadata": {},
   "source": [
    "ex027 - Faça um programa que leia o nome completo de uma pessoa,\n",
    "        mostrando em seguida o primeiro e o último nome separadamente."
   ]
  },
  {
   "cell_type": "code",
   "execution_count": null,
   "metadata": {},
   "outputs": [],
   "source": [
    "nome = input('Digite seu nome completo: ').strip()\n",
    "\n",
    "nome = nome.split()\n",
    "\n",
    "print('Primeiro nome: {}'.format(nome[0]))\n",
    "print('Ultimo nome: {}'.format(nome[len(nome) - 1]))"
   ]
  },
  {
   "attachments": {},
   "cell_type": "markdown",
   "metadata": {},
   "source": [
    "ex028 - Escreva um programa que faça o computador \"pensar\" em um número inteiro entre 0 e 5\n",
    "        e peça para o usuário tentar descobrir qual foi o número escolhido pelo computador.\n",
    "        O programa deverá escrever na tela se o usuário venceu ou perdeu."
   ]
  },
  {
   "cell_type": "code",
   "execution_count": null,
   "metadata": {},
   "outputs": [],
   "source": [
    "from random import randint\n",
    "from time import sleep\n",
    "\n",
    "print('=' * 60)\n",
    "num = int(input('Vou escolher um numero aleatorio de 1 a 5 tente adivinhar: '))\n",
    "\n",
    "# n = choice([1,2,3,4,5])\n",
    "print('PROCESSANDO...')\n",
    "sleep(2)\n",
    "\n",
    "n = randint(0, 5)\n",
    "\n",
    "if num == n:\n",
    "    print('acertouuu!!!')\n",
    "else:\n",
    "    print('Numero do computador {}'.format(n))\n",
    "    print('Mais sorte na proxima vez')\n",
    "\n",
    "print('=' * 60)\n"
   ]
  },
  {
   "attachments": {},
   "cell_type": "markdown",
   "metadata": {},
   "source": [
    "ex029 - Escreva um programa que leia a velocidade de um carro. Se ele ultrapassar 80Km/h,\n",
    "        mostre uma mensagem dizendo que ele foi multado. A multa vai custar R$7,00 por cada Km acima do limite."
   ]
  },
  {
   "cell_type": "code",
   "execution_count": null,
   "metadata": {},
   "outputs": [],
   "source": [
    "vel = int(input('Digite sua velocidade: '))\n",
    "\n",
    "\n",
    "if vel > 80:\n",
    "    multa = (vel - 80) * 7\n",
    "    print('Você foi multato no valor {}, por ultrapassar em {}Km/h o limite da pista'.format(multa, (vel - 80)))\n",
    "else:\n",
    "    print('Dirija com segurança')"
   ]
  },
  {
   "attachments": {},
   "cell_type": "markdown",
   "metadata": {},
   "source": [
    "ex030 - Crie um programa que leia um número inteiro e mostre na tela se ele é PAR ou ÍMPAR."
   ]
  },
  {
   "cell_type": "code",
   "execution_count": null,
   "metadata": {},
   "outputs": [],
   "source": [
    "num = int(input('Digite um numero: '))\n",
    "\n",
    "print('Voce digitou um numero')\n",
    "\n",
    "if num % 2 == 0:\n",
    "    print('PAR')\n",
    "else:\n",
    "    print('IMPAR')"
   ]
  },
  {
   "attachments": {},
   "cell_type": "markdown",
   "metadata": {},
   "source": [
    "ex031 - Desenvolva um programa que pergunte a distância de uma viagem em Km.\n",
    "        Calcule o preço da passagem, cobrando R$0,50 por Km para viagens de até 200Km e R$0,45 parta viagens mais longas."
   ]
  },
  {
   "cell_type": "code",
   "execution_count": null,
   "metadata": {},
   "outputs": [],
   "source": [
    "d = float(input('Digite a distancia da sua viagem em Km: '))\n",
    "\n",
    "# print(d )\n",
    "\n",
    "if d > 200:\n",
    "    print('Valor da passagem é de {}'.format(d * 0.45))\n",
    "else:\n",
    "    print('Valor da passagem é de R$ {:.2f}'.format(d * 0.50))"
   ]
  },
  {
   "attachments": {},
   "cell_type": "markdown",
   "metadata": {},
   "source": [
    "ex032 - Faça um programa que leia um ano qualquer e mostre se ele é bissexto."
   ]
  },
  {
   "cell_type": "code",
   "execution_count": null,
   "metadata": {},
   "outputs": [],
   "source": [
    "from datetime import date\n",
    "\n",
    "ano = int(input('Que ano quer analizar? Coloque 0 para analizar o ano atual: '))\n",
    "\n",
    "if ano == 0:\n",
    "    ano = date.today().year\n",
    "\n",
    "if ano % 4 == 0 and ano % 100 != 0 or ano % 400 == 0:\n",
    "    print('O ano {} é BISSEXTO'.format(ano))\n",
    "else:\n",
    "    print('O ano {} NÃO é BISSEXTO'.format(ano))"
   ]
  },
  {
   "attachments": {},
   "cell_type": "markdown",
   "metadata": {},
   "source": [
    "ex033 - Faça um programa que leia três números e mostre qual é o maior e qual é o menor."
   ]
  },
  {
   "cell_type": "code",
   "execution_count": null,
   "metadata": {},
   "outputs": [],
   "source": [
    "a = int(input('Primeiro valor: '))\n",
    "b = int(input('Segundo valor: '))\n",
    "c = int(input('Terceiro valor: '))\n",
    "\n",
    "\n",
    "\n",
    "# verificando menor valor\n",
    "menor = a\n",
    "if b<a and b<c:\n",
    "    menor = b\n",
    "if c<a and c<b:\n",
    "    menor = c\n",
    "\n",
    "# verificando maior valor\n",
    "maior = a\n",
    "if b>a and b>c:\n",
    "    maior = b\n",
    "if c>a and c>b:\n",
    "    maior = c\n",
    "\n",
    "\n",
    "print('O menor valo digitado foi {}'.format(menor))\n",
    "print('O maior valo digitado foi {}'.format(maior))"
   ]
  },
  {
   "attachments": {},
   "cell_type": "markdown",
   "metadata": {},
   "source": [
    "ex034 - Escreva um programa que pergunte o salário de um funcionário e calcule o valor do seu aumento.\n",
    "        Para salários superiores a R$1250,00, calcule um aumento de 10%.\n",
    "        Para os inferiores ou iguais, o aumento é de 15%."
   ]
  },
  {
   "cell_type": "code",
   "execution_count": null,
   "metadata": {},
   "outputs": [],
   "source": [
    "sal = float(input('Qual é o salario do funcionario? R$ '))\n",
    "\n",
    "if sal <= 1250:\n",
    "    novo = sal + (sal * 15 / 100)\n",
    "else:\n",
    "    novo = sal + (sal * 10 / 100)\n",
    "\n",
    "print('Quem ganhava R$ {:.2f} passa a ganhar R$ {:.2f} agora'.format(sal, novo))"
   ]
  },
  {
   "attachments": {},
   "cell_type": "markdown",
   "metadata": {},
   "source": [
    "ex035 - Desenvolva um programa que leia o comprimento de três retas\n",
    "        e diga ao usuário se elas podem ou não formar um triângulo."
   ]
  },
  {
   "cell_type": "code",
   "execution_count": null,
   "metadata": {},
   "outputs": [],
   "source": [
    "print('=' * 30)\n",
    "print('Calculando Triangulos')\n",
    "print('=' * 30)\n",
    "\n",
    "r1 = float(input('Primeiro seguimento: '))\n",
    "r2 = float(input('Segundo seguimento: '))\n",
    "r3 = float(input('Terceiro seguimento: '))\n",
    "\n",
    "if r1 < r2 + r3 and r2 < r1 + r3 and r3 < r1 + r2:\n",
    "    print('Os segmentos acima PODEM formar triangulo')\n",
    "else:\n",
    "    print('Os segmentos acima NÃO PODEM formar triangulo')"
   ]
  },
  {
   "attachments": {},
   "cell_type": "markdown",
   "metadata": {},
   "source": [
    "# MUNDO 2 \n"
   ]
  },
  {
   "attachments": {},
   "cell_type": "markdown",
   "metadata": {},
   "source": [
    "ex036 - Escreva um programa para aprovar o empréstimo bancário para a compra de uma casa. Pergunte o valor da casa,\n",
    "        o salário do comprador e em quantos anos ele vai pagar.\n",
    "        A prestação mensal não pode exceder 30% do salário ou então o empréstimo será negado."
   ]
  },
  {
   "cell_type": "code",
   "execution_count": null,
   "metadata": {},
   "outputs": [],
   "source": [
    "casa = float(input('valor da casa: R$ '))\n",
    "salario = float(input('salario do comprador: R$ '))\n",
    "anos = int(input('quantos anos de financiamento? '))\n",
    "\n",
    "prestacao = casa / (anos * 12)\n",
    "minimo = salario * 30 / 100\n",
    "\n",
    "print('Para pagar uma casa de R$ {:.2f} em {} anos'.format(casa, anos), end='')\n",
    "print(' a prestacao sera de R$ {:.2f}'.format(prestacao))\n",
    "\n",
    "if prestacao <= minimo:\n",
    "    print('emprestimo pode ser concedido')\n",
    "else:\n",
    "    print('emprestimo negado')"
   ]
  },
  {
   "attachments": {},
   "cell_type": "markdown",
   "metadata": {},
   "source": [
    "ex037 - Escreva um programa em Python que leia um número inteiro qualquer e peça para o usuário escolher qual será a\n",
    "        base de conversão: 1 para binário, 2 para octal e 3 para hexadecimal."
   ]
  },
  {
   "cell_type": "code",
   "execution_count": null,
   "metadata": {},
   "outputs": [],
   "source": [
    "num = int(input('Digite um numero interiro'))\n",
    "\n",
    "print('''Escolha uma das bases para conversao:\n",
    "[ 1 ] converter para binario\n",
    "[ 2 ] converter para octal\n",
    "[ 3 ] converter para hxadecimal''')\n",
    "\n",
    "opcao = int(input('digite sua opcao: '))\n",
    "\n",
    "if opcao == 1:\n",
    "    print('{} convertido para binario é {}'.format(num, bin(num)[2:]))\n",
    "elif opcao == 2:\n",
    "    print('{} convertido para octal é {}'.format(num, oct(num)[2:]))\n",
    "elif opcao == 3:\n",
    "    print('{} convertido para hexadecimal é {}'.format(num, hex(num)[2:]))\n",
    "else:\n",
    "    print('opcao invalida')"
   ]
  },
  {
   "attachments": {},
   "cell_type": "markdown",
   "metadata": {},
   "source": [
    "ex038 - Escreva um programa que leia dois números inteiros e compare-os. mostrando na tela uma mensagem:\n",
    "        - O primeiro valor é maior\n",
    "        - O segundo valor é maior\n",
    "        - Não existe valor maior, os dois são iguais"
   ]
  },
  {
   "cell_type": "code",
   "execution_count": null,
   "metadata": {},
   "outputs": [],
   "source": [
    "n1 = int(input('Primeiro numero: '))\n",
    "n2 = int(input('Segundo numero: '))\n",
    "\n",
    "if n1 > n2:\n",
    "    print('O primeiro numero é maior')\n",
    "elif n1 < n2:\n",
    "    print('O segundo numero é maior')\n",
    "else:\n",
    "    print('os numeros sáo iguais')"
   ]
  },
  {
   "attachments": {},
   "cell_type": "markdown",
   "metadata": {},
   "source": [
    "ex039 - Faça um programa que leia o ano de nascimento de um jovem e informe, de acordo com a sua idade,\n",
    "        se ele ainda vai se alistar ao serviço militar, se é a hora exata de se alistar\n",
    "        ou se já passou do tempo do alistamento.\n",
    "        Seu programa também deverá mostrar o tempo que falta ou que passou do prazo."
   ]
  },
  {
   "cell_type": "code",
   "execution_count": null,
   "metadata": {},
   "outputs": [],
   "source": [
    "from datetime import date\n",
    "atual = date.today().year\n",
    "nasc = int(input('Ano de nascimento: '))\n",
    "idade = atual - nasc\n",
    "print('Quem nasceu em {} tem {} anos em {}'.format(nasc, idade, atual))\n",
    "\n",
    "if idade == 18:\n",
    "    print('voce tem que se alistar imediatamente')\n",
    "elif idade < 18:\n",
    "    saldo = idade - 18\n",
    "    print('ainda faltam {} anos para o alistamento'.format(saldo))\n",
    "else:\n",
    "    saldo = idade - 18\n",
    "    print('voce ja deveria ter se alistado ha {} anos'.format(saldo))"
   ]
  },
  {
   "attachments": {},
   "cell_type": "markdown",
   "metadata": {},
   "source": [
    "ex040 - Crie um programa que leia duas notas de um aluno e calcule sua média, mostrando uma mensagem no final,\n",
    "        de acordo com a média atingida:\n",
    "        - Média abaixo de 5.0: REPROVADO\n",
    "        - Média entre 5.0 e 6.9: RECUPERAÇÃO\n",
    "        - Média 7.0 ou superior: APROVADO"
   ]
  },
  {
   "cell_type": "code",
   "execution_count": null,
   "metadata": {},
   "outputs": [],
   "source": [
    "n1 = float(input('Primeira nota:'))\n",
    "n2 = float(input('Segunda nota: '))\n",
    "media = (n1 + n2) / 2\n",
    "print('Tirando {:.1f} e {:.1f}, a nota do aluno e {:.1f}'.format(n1, n2, media))\n",
    "\n",
    "if 7 > media >= 5:\n",
    "    print('O aluno esta de recuperacao')\n",
    "elif media < 5:\n",
    "    print('O aluno esta reprovado')\n",
    "else:\n",
    "    print('O aluno esta aprovado')"
   ]
  },
  {
   "attachments": {},
   "cell_type": "markdown",
   "metadata": {},
   "source": [
    "ex046 - Faça um programa que mostre na tela uma contagem regressiva para o estouro de fogos de artifício,\n",
    "        indo de 10 até 0, com uma pausa de 1 segundo entre eles."
   ]
  },
  {
   "cell_type": "code",
   "execution_count": null,
   "metadata": {},
   "outputs": [],
   "source": [
    "from time import sleep\n",
    "\n",
    "for count in range(10, -1, -1):\n",
    "    print(count)\n",
    "    sleep(0.5)\n",
    "print('BOOM! BOOM! POOOWW!!!')"
   ]
  },
  {
   "attachments": {},
   "cell_type": "markdown",
   "metadata": {},
   "source": [
    "ex047 - Crie um programa que mostre na tela todos os números pares que estão no intervalo entre 1 e 50.\n"
   ]
  },
  {
   "cell_type": "code",
   "execution_count": null,
   "metadata": {},
   "outputs": [],
   "source": [
    "for n in range(0, 51, 2):\n",
    "    print(n)\n",
    "print(' ACABOU')"
   ]
  },
  {
   "attachments": {},
   "cell_type": "markdown",
   "metadata": {},
   "source": [
    "ex048 - Faça um programa que calcule a soma entre todos os números que são múltiplos de três\n",
    "        e que se encontram no intervalo de 1 até 500."
   ]
  },
  {
   "cell_type": "code",
   "execution_count": null,
   "metadata": {},
   "outputs": [],
   "source": [
    "soma = 0\n",
    "cont = 0\n",
    "for n in range(1, 501, 2):\n",
    "    if n % 3 == 0:\n",
    "        soma += n\n",
    "        cont += 1\n",
    "\n",
    "print('a soma de todos {} os valores é {}'.format(cont, soma))\n"
   ]
  },
  {
   "attachments": {},
   "cell_type": "markdown",
   "metadata": {},
   "source": [
    "ex049 - Refaça o DESAFIO 009, mostrando a tabuada de um número que o usuário escolher,\n",
    "        só que agora utilizando um laço for."
   ]
  },
  {
   "cell_type": "code",
   "execution_count": null,
   "metadata": {},
   "outputs": [],
   "source": [
    "num = int(input('Digite um numero para ver sua tabuada: '))\n",
    "\n",
    "for n in range(1, 11):\n",
    "    print('{} x {} = {}'.format(num, n, num*n))"
   ]
  },
  {
   "attachments": {},
   "cell_type": "markdown",
   "metadata": {},
   "source": [
    "ex050 - Desenvolva um programa que leia seis números inteiros e mostre a soma apenas daqueles que forem pares.\n",
    "        Se o valor digitado for ímpar, desconsidere-o."
   ]
  },
  {
   "cell_type": "code",
   "execution_count": null,
   "metadata": {},
   "outputs": [],
   "source": [
    "soma = 0\n",
    "\n",
    "for n in range(1, 7):\n",
    "    aux = int(input('Digite o numero {}: '.format(n)))\n",
    "    if aux % 2 == 0:\n",
    "        soma += aux\n",
    "\n",
    "print('A soma é: {}'.format(soma))"
   ]
  },
  {
   "attachments": {},
   "cell_type": "markdown",
   "metadata": {},
   "source": [
    "ex051 - Desenvolva um programa que leia o primeiro termo e a razão de uma PA. No final,\n",
    "        mostre os 10 primeiros termos dessa progressão."
   ]
  },
  {
   "cell_type": "code",
   "execution_count": null,
   "metadata": {},
   "outputs": [],
   "source": [
    "print('=' * 35)\n",
    "print('        10 TERMOS DE UMA PA        ')\n",
    "print('=' * 35)\n",
    "\n",
    "termo = int(input('Digite o primeiro termo: '))\n",
    "razao = int(input('Digite a razão: '))\n",
    "\n",
    "decimno = termo + (10 - 1) * razao\n",
    "\n",
    "for n in range(termo, decimno + 1, razao):\n",
    "    print('{}'.format(n), end=' -> ')\n",
    "\n",
    "print('Acabou')"
   ]
  },
  {
   "attachments": {},
   "cell_type": "markdown",
   "metadata": {},
   "source": [
    "ex052 - Faça um programa que leia um número inteiro e diga se ele é ou não um número primo."
   ]
  },
  {
   "cell_type": "code",
   "execution_count": null,
   "metadata": {},
   "outputs": [],
   "source": [
    "num = int(input('Digite em numero: '))\n",
    "tot = 0\n",
    "for c in range(1, num + 1):\n",
    "    if num % c == 0:\n",
    "        print('\\33[33m', end='')\n",
    "        tot += 1\n",
    "    else:\n",
    "        print('\\33[31m', end='')\n",
    "    print('{} '.format(c), end='')\n",
    "\n",
    "print('\\n\\033[mO numero {} foi divisivel {} vezes'.format(num, tot))\n",
    "\n",
    "if tot ==2:\n",
    "    print('Ele é primo')\n",
    "else:\n",
    "    print('Ele não é primo')"
   ]
  },
  {
   "attachments": {},
   "cell_type": "markdown",
   "metadata": {},
   "source": [
    "ex053 - Crie um programa que leia uma frase qualquer e diga se ela é um palíndromo, desconsiderando os espaços.\n"
   ]
  },
  {
   "cell_type": "code",
   "execution_count": null,
   "metadata": {},
   "outputs": [],
   "source": [
    "# exemplos de palindromos\n",
    "# ana\n",
    "# apos a sopa\n",
    "# o lobo ama o bolo\n",
    "\n",
    "frase = input('Digite uma frase: ').strip().upper()\n",
    "frase = frase.split()\n",
    "junto = ''.join(frase)\n",
    "inverso = ''\n",
    "\n",
    "for letra in range(len(junto) - 1, -1, -1):\n",
    "    inverso += junto[letra]\n",
    "\n",
    "if inverso == junto:\n",
    "    print('Temos um palindromo')\n",
    "else:\n",
    "    print('Não é palindromo :(')\n"
   ]
  },
  {
   "attachments": {},
   "cell_type": "markdown",
   "metadata": {},
   "source": [
    "ex054 - Crie um programa que leia o ano de nascimento de sete pessoas. No final,\n",
    "        mostre quantas pessoas ainda não atingiram a maioridade e quantas já são maiores."
   ]
  },
  {
   "cell_type": "code",
   "execution_count": null,
   "metadata": {},
   "outputs": [],
   "source": [
    "from datetime import date\n",
    "\n",
    "atual = date.today().year\n",
    "for pess in range(1, 8):\n",
    "    nasc = int(input('Em que ano a {}º pessoa nasceu? '.format(pess)))\n",
    "    idade = atual - nasc\n",
    "    if idade >= 21:\n",
    "        print('Essa pessoa é maior')\n",
    "    else:\n",
    "        print('Essa pessoa é menor')"
   ]
  },
  {
   "attachments": {},
   "cell_type": "markdown",
   "metadata": {},
   "source": [
    "ex055 - Faça um programa que leia o peso de cinco pessoas. No final, mostre qual foi o maior e o menor peso lidos."
   ]
  },
  {
   "cell_type": "code",
   "execution_count": null,
   "metadata": {},
   "outputs": [],
   "source": [
    "maior = 0\n",
    "menor = 0\n",
    "for c in range(1, 6):\n",
    "    peso = float(input('Digite o peso da {}º pessoa: '.format(c)))\n",
    "    if c == 1:\n",
    "        maior = peso\n",
    "        menor = peso\n",
    "\n",
    "    if peso > maior:\n",
    "        maior = peso\n",
    "    if peso < menor:\n",
    "        menor = peso\n",
    "\n",
    "print('O maior peso é {}'.format(maior))\n",
    "print('O menor peso é {}'.format(menor))\n"
   ]
  },
  {
   "attachments": {},
   "cell_type": "markdown",
   "metadata": {},
   "source": [
    "ex056 - Desenvolva um programa que leia o nome, idade e sexo de 4 pessoas. No final do programa, mostre:\n",
    "        a média de idade do grupo,\n",
    "        qual é o nome do homem mais velho\n",
    "        e quantas mulheres têm menos de 20 anos."
   ]
  },
  {
   "cell_type": "code",
   "execution_count": null,
   "metadata": {},
   "outputs": [],
   "source": [
    "igeral = 0\n",
    "imaior = 0\n",
    "nmaior = ''\n",
    "cont = 0\n",
    "\n",
    "for p in range(1, 5):\n",
    "    print('-----  {}ª PESSOA  -----'.format(p))\n",
    "    nome = input('NOME: ')\n",
    "    idade = int(input('IDADE: '))\n",
    "    sex = input('SEX: ').upper()\n",
    "\n",
    "    igeral += idade\n",
    "\n",
    "    # if idade > imaior and sex == 'M':\n",
    "    if idade > imaior and sex in 'Mm':\n",
    "        imaior = idade\n",
    "        nmaior = nome\n",
    "\n",
    "    if idade < 20 and sex == 'F':\n",
    "        cont += 1\n",
    "\n",
    "\n",
    "print('A média de idade do grupo é de {:.1f} anos'.format(igeral/4))\n",
    "print('O homem mais velhor tem {} e se chama {}'.format(imaior, nmaior))\n",
    "print('Ao todo são {} mulheres com menos de 20 anos'.format(cont))\n"
   ]
  },
  {
   "attachments": {},
   "cell_type": "markdown",
   "metadata": {},
   "source": [
    "ex057 - Faça um programa que leia o sexo de uma pessoa, mas só aceite os valores 'M' ou 'F'. Caso esteja errado,\n",
    "        peça a digitação novamente até ter um valor correto."
   ]
  },
  {
   "cell_type": "code",
   "execution_count": null,
   "metadata": {},
   "outputs": [],
   "source": [
    "sexo = str(input('Informe seu sexo: [M/F] ')).strip().upper()[0]\n",
    "\n",
    "while sexo not in 'MmFf':\n",
    "    sexo = str(input('Informe seu sexo: [M/F] ')).strip().upper()[0]\n",
    "\n",
    "print('Sexo {} registrado com sucesso'.format(sexo))\n"
   ]
  },
  {
   "attachments": {},
   "cell_type": "markdown",
   "metadata": {},
   "source": [
    "ex058 - Melhore o jogo do DESAFIO 028 onde o computador vai \"pensar\" em um número entre 0 e 10.\n",
    "        Só que agora o jogador vai tentar adivinhar até acertar,\n",
    "        mostrando no final quantos palpites foram necessários para vencer."
   ]
  },
  {
   "cell_type": "code",
   "execution_count": null,
   "metadata": {},
   "outputs": [],
   "source": [
    "from random import randint\n",
    "computador = randint(0, 10)\n",
    "\n",
    "print('Sou seu computador... Acebei de pensar em um número entre 0 e 10.')\n",
    "print('Será que você consegue adivinhar qual foi?')\n",
    "acertou = False\n",
    "cont = 0\n",
    "\n",
    "while not acertou:\n",
    "    jogador = int(input('Qual é seu palpite? '))\n",
    "    if jogador == computador:\n",
    "        acertou = True\n",
    "    else:\n",
    "        cont += 1\n",
    "        if jogador < computador:\n",
    "            print('Mais... Tente mais uma vez')\n",
    "        else:\n",
    "            print('Menos... Tente mais uma vez')\n",
    "\n",
    "\n",
    "print('Acertoooouuuuu!!!')\n",
    "if cont > 0:\n",
    "    print('Você acertou em {} tentativas'.format(cont + 1))\n"
   ]
  },
  {
   "attachments": {},
   "cell_type": "markdown",
   "metadata": {},
   "source": [
    "ex059 - Crie um programa que leia dois valores e mostre um menu na tela:\n",
    "        [ 1 ] somar\n",
    "        [ 2 ] multiplicar\n",
    "        [ 3 ] maior\n",
    "        [ 4 ] novos números\n",
    "        [ 5 ] sair do programa\n",
    "        Seu programa deverá realizar a operação solicitada em cada caso."
   ]
  },
  {
   "cell_type": "code",
   "execution_count": null,
   "metadata": {},
   "outputs": [],
   "source": [
    "v1 = int(input('Digite o primeiro valor: '))\n",
    "v2 = int(input('Digite o segundo valor: '))\n",
    "sair = False\n",
    "\n",
    "while sair is not True:\n",
    "    print('[ 1 ] somar\\n[ 2 ] multiplicar\\n[ 3 ] maior\\n[ 4 ] novos números\\n[ 5 ] sair do programa')\n",
    "    op = input('>>>>> Qual sua opção? ')\n",
    "    if op == '1':\n",
    "        print('A soma dos numeros é: {}'.format(v1 + v2))\n",
    "    elif op == '2':\n",
    "        print('A multiplicação dos numeros é: {}'.format(v1 * v2))\n",
    "    elif op == '3':\n",
    "        if v1 > v2:\n",
    "            print('O maior é {}'.format(v1))\n",
    "        else:\n",
    "            print('O maior é {}'.format(v2))\n",
    "    elif op == '4':\n",
    "        v1 = int(input('Digite o primeiro valor: '))\n",
    "        v2 = int(input('Digite o segundo valor: '))\n",
    "    elif op == '5':\n",
    "        sair = True\n"
   ]
  },
  {
   "attachments": {},
   "cell_type": "markdown",
   "metadata": {},
   "source": [
    "ex060 - Faça um programa que leia um número qualquer e mostre o seu fatorial.\n",
    "        Ex: 5! = 5 x 4 x 3 x 2 x 1 = 120"
   ]
  },
  {
   "cell_type": "code",
   "execution_count": null,
   "metadata": {},
   "outputs": [],
   "source": [
    "from math import factorial\n",
    "n = int(input('Digite um numero para calcular seu fatorial: '))\n",
    "f = factorial(n)\n",
    "c = n\n",
    "\n",
    "while c > 0:\n",
    "    print('{} x '.format(c), end='')\n",
    "    c -= 1\n",
    "\n",
    "print('\\nO fatorial de {} é {}'.format(n, f))\n",
    "\n"
   ]
  },
  {
   "attachments": {},
   "cell_type": "markdown",
   "metadata": {},
   "source": [
    "ex061 - Refaça o DESAFIO 051, lendo o primeiro termo e a razão de uma PA,\n",
    "        mostrando os 10 primeiros termos da progressão usando a estrutura while."
   ]
  },
  {
   "cell_type": "code",
   "execution_count": null,
   "metadata": {},
   "outputs": [],
   "source": [
    "print('Gerador de PA')\n",
    "print('-=' * 10)\n",
    "\n",
    "primeiro = int(input('Primeiro termo: '))\n",
    "razao = int(input('Razão da PA: '))\n",
    "termo = primeiro\n",
    "cont = 1\n",
    "\n",
    "while cont <= 10:\n",
    "    print('{} -> '.format(termo), end='')\n",
    "    termo += razao\n",
    "    cont += 1"
   ]
  },
  {
   "attachments": {},
   "cell_type": "markdown",
   "metadata": {},
   "source": [
    "ex062 - Melhore o DESAFIO 061, perguntando para o usuário se ele quer mostrar mais alguns termos.\n",
    "        O programa encerrará quando ele disser que quer mostrar 0 termos."
   ]
  },
  {
   "cell_type": "code",
   "execution_count": null,
   "metadata": {},
   "outputs": [],
   "source": [
    "print('Gerador de PA')\n",
    "print('-=' * 10)\n",
    "primeiro = int(input('Primeiro termo: '))\n",
    "razao = int(input('Razão da PA: '))\n",
    "termo = primeiro\n",
    "cont = 1\n",
    "sair = False\n",
    "\n",
    "while sair is not True:\n",
    "    while cont <= 10:\n",
    "        print('{} -> '.format(termo), end='')\n",
    "        termo += razao\n",
    "        cont += 1\n",
    "    print('PAUSA')\n",
    "\n",
    "    op = int(input('Quantos termos você quer mostrar mais? '))\n",
    "    if op == 0:\n",
    "        sair = True\n",
    "    else:\n",
    "        limite = cont + (op - 1)\n",
    "        while cont <= limite:\n",
    "            print('{} -> '.format(termo), end='')\n",
    "            termo += razao\n",
    "            cont += 1\n",
    "        print('PAUSA')"
   ]
  },
  {
   "attachments": {},
   "cell_type": "markdown",
   "metadata": {},
   "source": [
    "ex063 - Escreva um programa que leia um número N inteiro qualquer\n",
    "        e mostre na tela os N primeiros elementos de uma Sequência de Fibonacci."
   ]
  },
  {
   "cell_type": "code",
   "execution_count": null,
   "metadata": {},
   "outputs": [],
   "source": [
    "print('-'*30)\n",
    "print('Sequencia de Fibonacci')\n",
    "print('-'*30)\n",
    "n = int(input('Qunatos termos você quer mostrar? '))\n",
    "t1 = 0\n",
    "t2 = 1\n",
    "print('~'*30)\n",
    "print('{} -> {}'.format(t1, t2), end='')\n",
    "cont = 3\n",
    "while cont <= n:\n",
    "    t3 = t1 + t2\n",
    "    print(' -> {}'.format(t3), end='')\n",
    "    t1 = t2\n",
    "    t2 = t3\n",
    "    cont += 1\n",
    "print(' -> FIM')"
   ]
  },
  {
   "attachments": {},
   "cell_type": "markdown",
   "metadata": {},
   "source": [
    "ex064 - Crie um programa que leia vários números inteiros pelo teclado.\n",
    "        O programa só vai parar quando o usuário digitar o valor 999, que é a condição de parada.\n",
    "        No final, mostre quantos números foram digitados e qual foi a soma entre eles (desconsiderando o flag)."
   ]
  },
  {
   "cell_type": "code",
   "execution_count": null,
   "metadata": {},
   "outputs": [],
   "source": [
    "num = cont = soma = 0\n",
    "num = int(input('Digite um numero [999 para parar]: '))\n",
    "while num != 999:\n",
    "    soma += num\n",
    "    cont += 1\n",
    "    num = int(input('Digite um numero [999 para parar]: '))\n",
    "print('Voce digitou {} numeros e a soma entre eles foi {}.'.format(cont, soma))"
   ]
  },
  {
   "attachments": {},
   "cell_type": "markdown",
   "metadata": {},
   "source": [
    "ex065 - Crie um programa que leia vários números inteiros pelo teclado. No final da execução,\n",
    "        mostre a média entre todos os valores e qual foi o maior e o menor valores lidos.\n",
    "        O programa deve perguntar ao usuário se ele quer ou não continuar a digitar valores."
   ]
  },
  {
   "cell_type": "code",
   "execution_count": null,
   "metadata": {},
   "outputs": [],
   "source": [
    "resp = 'S'\n",
    "soma = quant = media = maior = menor = 0\n",
    "while resp in 'Ss':\n",
    "    num = int(input('Digite um numero: '))\n",
    "    soma += num\n",
    "    quant += 1\n",
    "    if quant == 1:\n",
    "        maior = menor = num\n",
    "    else:\n",
    "        if num > maior:\n",
    "            maior = num\n",
    "        if num < menor:\n",
    "            menor = num\n",
    "\n",
    "    resp = str(input('Quer continuar? [S/N] ')).upper().strip()[0]\n",
    "media = soma / quant\n",
    "print('Você digitou {} numeros e a media foi {}'.format(quant, media))\n",
    "print('O maior valor foi {} e o menos foi {}'.format(maior, menor))\n"
   ]
  },
  {
   "attachments": {},
   "cell_type": "markdown",
   "metadata": {},
   "source": [
    "ex066 - Crie um programa que leia números inteiros pelo teclado. O programa só vai parar quando o usuário digitar\n",
    "        o valor 999, que é a condição de parada. No final, mostre quantos números foram digitados\n",
    "        e qual foi a soma entre elas (desconsiderando o flag)."
   ]
  },
  {
   "cell_type": "code",
   "execution_count": null,
   "metadata": {},
   "outputs": [],
   "source": [
    "soma = cont = 0\n",
    "while True:\n",
    "    n = int(input('Digite um valor (999 para parar): '))\n",
    "    if n == 999:\n",
    "        break\n",
    "    soma += n\n",
    "    cont += 1\n",
    "\n",
    "print(f'A soma dos {cont} valores foi {soma}')\n"
   ]
  },
  {
   "attachments": {},
   "cell_type": "markdown",
   "metadata": {},
   "source": [
    "ex067 - Faça um programa que mostre a tabuada de vários números, um de cada vez, para cada valor digitado pelo usuário.\n",
    "        O programa será interrompido quando o número solicitado for negativo."
   ]
  },
  {
   "cell_type": "code",
   "execution_count": null,
   "metadata": {},
   "outputs": [],
   "source": [
    "while True:\n",
    "    n = int(input('Quer ver a tabuada de qual valor? '))\n",
    "    print('-'*30)\n",
    "    if n < 0:\n",
    "        break\n",
    "    for c in range(1, 11):\n",
    "        print(f'{n} x {c} = {n*c}')\n",
    "    print('-'*30)\n",
    "print('PROGRAMA TABUADA ENCERRADO. Volte sempre!!!')"
   ]
  },
  {
   "attachments": {},
   "cell_type": "markdown",
   "metadata": {},
   "source": [
    "ex068 - Faça um programa que jogue par ou ímpar com o computador. O jogo só será interrompido quando o jogador perder,\n",
    "        mostrando o total de vitórias consecutivas que ele conquistou no final do jogo."
   ]
  },
  {
   "cell_type": "code",
   "execution_count": null,
   "metadata": {},
   "outputs": [],
   "source": [
    "from random import randint\n",
    "v = 0\n",
    "while True:\n",
    "    jogador = int(input('Diga um valor: '))\n",
    "    computador = randint(0, 10)\n",
    "    total = jogador + computador\n",
    "    tipo = ' '\n",
    "    while tipo not in 'PI':\n",
    "        tipo = str(input('Par ou Impar? [P/I] ')).strip().upper()[0]\n",
    "    print(f'Voce jogou {jogador} e o computador {computador}. Total de {total}', end='')\n",
    "    print(' DEU PAR' if total % 2 == 0 else ' DEU IMPAR')\n",
    "    if tipo == 'P':\n",
    "        if total % 2 == 0:\n",
    "            print('Você VENCEU!')\n",
    "            v += 1\n",
    "        else:\n",
    "            print('Você PERDEU!')\n",
    "            break\n",
    "    elif tipo == 'I':\n",
    "        if total % 2 == 1:\n",
    "            print('Você VENCEU!')\n",
    "            v += 1\n",
    "        else:\n",
    "            print('Você PERDEU!')\n",
    "            break\n",
    "    print('Vamos jogar novamente...')\n",
    "print(f'GAME OVER!!! Você venceu {v} vezes')"
   ]
  },
  {
   "attachments": {},
   "cell_type": "markdown",
   "metadata": {},
   "source": [
    "ex069 - Crie um programa que leia a idade e o sexo de várias pessoas. A cada pessoa cadastrada,\n",
    "        o programa deverá perguntar se o usuário quer ou não continuar. No final, mostre:\n",
    "        A) quantas pessoas tem mais de 18 anos.\n",
    "        B) quantos homens foram cadastrados.\n",
    "        C) quantas mulheres tem menos de 20 anos."
   ]
  },
  {
   "cell_type": "code",
   "execution_count": null,
   "metadata": {},
   "outputs": [],
   "source": [
    "tot18 = toth = totm20 = 0\n",
    "while True:\n",
    "    idade = int(input('Idade: '))\n",
    "    sexo = ' '\n",
    "    while sexo not in 'MF':\n",
    "        sexo = str(input('Sexo: [M/F] ')).strip().upper()[0]\n",
    "    if idade >= 18:\n",
    "        tot18 += 1\n",
    "    if sexo == 'M':\n",
    "        toth += 1\n",
    "    if sexo == 'F' and idade < 20:\n",
    "        totm20 += 1\n",
    "    resp = ' '\n",
    "    while resp not in 'SN':\n",
    "        resp = str(input('Quer continuar? [S/N] ')).strip().upper()[0]\n",
    "    if resp == 'N':\n",
    "        break\n",
    "\n",
    "print(f'Total de pessoas com mais de 18 anos: {tot18}')\n",
    "print(f'Ao todo temos {toth} homens cadastrados')\n",
    "print(f'E temos {totm20} mulheres com menos de 20 anos')\n"
   ]
  },
  {
   "attachments": {},
   "cell_type": "markdown",
   "metadata": {},
   "source": [
    "ex070 - Crie um programa que leia o nome e o preço de vários produtos.\n",
    "        O programa deverá perguntar se o usuário vai continuar ou não. No final, mostre:\n",
    "        A) qual é o total gasto na compra.\n",
    "        B) quantos produtos custam mais de R$1000.\n",
    "        C) qual é o nome do produto mais barato."
   ]
  },
  {
   "cell_type": "code",
   "execution_count": null,
   "metadata": {},
   "outputs": [],
   "source": [
    "total = totmil = menor = cont = 0\n",
    "barato = ''\n",
    "while True:\n",
    "    produto = str(input('Nome do produto: '))\n",
    "    preco = float(input('Preço: R$ '))\n",
    "    cont += 1\n",
    "    total += 1\n",
    "    if preco > 1000:\n",
    "        totmil += 1\n",
    "    if cont == 1 or preco < menor:\n",
    "        menor = preco\n",
    "        barato = produto\n",
    "    resp = ' '\n",
    "    while resp not in 'SN':\n",
    "        resp = str(input('Quer continuar? [S/N] ')).strip().upper()[0]\n",
    "    if resp == 'N':\n",
    "        break\n",
    "\n",
    "print('{:-^40}'.format(' FIM DO PROGRAMA '))\n",
    "print(f'O total da compra foi R${total:.2f}')\n",
    "print(f'Temos {totmil} produtos custando mais de R$ 1.000,00')\n",
    "print(f'O produto mais barato foi {barato} que custa R$ {menor:.2f}')\n"
   ]
  },
  {
   "attachments": {},
   "cell_type": "markdown",
   "metadata": {},
   "source": [
    "ex071 - Crie um programa que simule o funcionamento de um caixa eletrônico. No início,\n",
    "        pergunte ao usuário qual será o valor a ser sacado (número inteiro) e o\n",
    "        programa vai informar quantas cédulas de cada valor serão entregues.\n",
    "        OBS: considere que o caixa possui cédulas de R$50, R$20, R$10 e R$1."
   ]
  },
  {
   "cell_type": "code",
   "execution_count": null,
   "metadata": {},
   "outputs": [],
   "source": [
    "print('=' * 30)\n",
    "print('{:.^30}'.format(' BANCO CEV '))\n",
    "print('=' * 30)\n",
    "valor = int(input('Que valor vc quer sacar? R$ '))\n",
    "total = valor\n",
    "ced = 50\n",
    "totced = 0\n",
    "while True:\n",
    "    if total >= ced:\n",
    "        total -= ced\n",
    "        totced += 1\n",
    "    else:\n",
    "        if totced > 0:\n",
    "            print(f'Total de {totced} células de R$ {ced}')\n",
    "        if ced == 50:\n",
    "            ced = 20\n",
    "        elif ced == 20:\n",
    "            ced = 10\n",
    "        elif ced == 10:\n",
    "            ced = 1\n",
    "        totced = 0\n",
    "        if total == 0:\n",
    "            break\n",
    "\n",
    "print('=' * 30)\n",
    "print('Volte sempre ao BANCO CEV! Tenha um bom dia!')\n"
   ]
  },
  {
   "attachments": {},
   "cell_type": "markdown",
   "metadata": {},
   "source": [
    "ex072 - Crie um programa que tenha uma dupla totalmente preenchida com uma contagem por extenso, de zero até vinte.\n",
    "        Seu programa deverá ler um número pelo teclado (entre 0 e 20) e mostrá-lo por extenso."
   ]
  },
  {
   "cell_type": "code",
   "execution_count": null,
   "metadata": {},
   "outputs": [],
   "source": [
    "cont = ('zero' ,'um','dois','tres','quatro','cinco','seis','sete','oito','nove','dez',\n",
    "        'onze','doze','treze','catorze','quinze','dezesseis','dezesete','dezoito','dezenove','vinte')\n",
    "\n",
    "while True:\n",
    "    num = int(input('Digite um numero entre 0 e 20: '))\n",
    "    if 0 <= num <= 20:\n",
    "        break\n",
    "    print('Tente novamente. ', end='')\n",
    "print(f'Você digitou o numero {cont[num]}')"
   ]
  },
  {
   "attachments": {},
   "cell_type": "markdown",
   "metadata": {},
   "source": [
    "ex073 - Crie uma tupla preenchida com os 20 primeiros colocados da Tabela do Campeonato Brasileiro de Futebol,\n",
    "        na ordem de colocação. Depois mostre:\n",
    "        a) Os 5 primeiros times.\n",
    "        b) Os últimos 4 colocados.\n",
    "        c) Times em ordem alfabética.\n",
    "        d) Em que posição está o time da Chapecoense."
   ]
  },
  {
   "cell_type": "code",
   "execution_count": null,
   "metadata": {},
   "outputs": [],
   "source": [
    "times = ('corinthians', 'Palmeiras', 'Santos', 'Gremio', 'Cruzeiro', 'Flamengo', 'Vasco', 'Chapecoense',\n",
    "         'Atletico', 'Botafogo', 'Atletico-PR', 'Bahia', 'São Paulo', 'Fluminence', 'Sporte Recife',\n",
    "         'EC Vitoria', 'Coritiba', 'Avaí', 'Ponte Preta', 'Atletico-GO')\n",
    "\n",
    "print('-=' * 15)\n",
    "print(f'Lista de times do brasileirão: {times}')\n",
    "print('-=' * 15)\n",
    "print(f'Os 5 primeiros são {times[0:5]}')\n",
    "print('-=' * 15)\n",
    "print(f'Os 4 ultimos são {times[-4:]}')\n",
    "print('-=' * 15)\n",
    "print(f'Times em ordem alfabetica: {sorted(times)}')\n",
    "print('-=' * 15)\n",
    "print(f'O Chapecoence está na {times.index((\"Chapecoense\"))+1}ª posição')\n"
   ]
  },
  {
   "attachments": {},
   "cell_type": "markdown",
   "metadata": {},
   "source": [
    "ex074 - Crie um programa que vai gerar cinco números aleatórios e colocar em uma tupla. Depois disso,\n",
    "        mostre a listagem de números gerados e também indique o menor e o maior valor que estão na tupla."
   ]
  },
  {
   "cell_type": "code",
   "execution_count": null,
   "metadata": {},
   "outputs": [],
   "source": [
    "from random import randint\n",
    "numeros = (randint(1, 10), randint(1, 10), randint(1, 10), randint(1, 10), randint(1, 10))\n",
    "print('Os numeros sorteados foram: ', end='')\n",
    "for n in numeros:\n",
    "    print(f'{n} ', end='')\n",
    "print(f'\\nO maior valor sorteado foi {max(numeros)}')\n",
    "print(f'O menor valor sorteado foi {min(numeros)}')"
   ]
  },
  {
   "attachments": {},
   "cell_type": "markdown",
   "metadata": {},
   "source": [
    "ex075 - Desenvolva um programa que leia quatro valores pelo teclado e guarde-os em uma tupla. No final, mostre:\n",
    "        A) Quantas vezes apareceu o valor 9.\n",
    "        B) Em que posição foi digitado o primeiro valor 3.\n",
    "        C) Quais foram os números pares."
   ]
  },
  {
   "cell_type": "code",
   "execution_count": null,
   "metadata": {},
   "outputs": [],
   "source": [
    "num = (int(input('Digite o numero 1: ')),\n",
    "       int(input('Digite o numero 2: ')),\n",
    "       int(input('Digite o numero 3: ')),\n",
    "       int(input('Digite o numero 4: ')))\n",
    "print(f'Você digitou os valores {num}')\n",
    "print(f'O valor 9 apareceu {num.count(9)} vezes')\n",
    "if 3 in num:\n",
    "    print(f'O valor 3 apareceu na {num.index(3)+1}ª posição')\n",
    "else:\n",
    "    print('O valor 2 não foi digitado')\n",
    "print('Os valores pares digitados foram ', end='')\n",
    "for n in num:\n",
    "    if n % 2 == 0:\n",
    "        print(n, end='')\n"
   ]
  },
  {
   "attachments": {},
   "cell_type": "markdown",
   "metadata": {},
   "source": [
    "ex076 - Crie um programa que tenha uma tupla única com nomes de produtos e seus respectivos preços, na sequência.\n",
    "        No final, mostre uma listagem de preços, organizando os dados em forma tabular."
   ]
  },
  {
   "cell_type": "code",
   "execution_count": null,
   "metadata": {},
   "outputs": [],
   "source": [
    "listagem = ('Lápis', 1.75,\n",
    "            'Borracha', 2,\n",
    "            'Caderno', 15.90,\n",
    "            'Estojo', 25,\n",
    "            'Trasferidor', 4.20,\n",
    "            'Compasso', 9.99,\n",
    "            'Mochila', 120.32,\n",
    "            'Caneta', 22.30,\n",
    "            'Livro', 34.90)\n",
    "print('-' * 40)\n",
    "print(f'{\"LISTAGEM DE PREÇOS\":^40}')\n",
    "print('-' * 40)\n",
    "for pos in range(0, len(listagem)):\n",
    "    if pos % 2 == 0:\n",
    "        print(f'{listagem[pos]:.<30}', end='')\n",
    "    else:\n",
    "        print(f'R$ {listagem[pos]:>7.2f}')\n"
   ]
  },
  {
   "attachments": {},
   "cell_type": "markdown",
   "metadata": {},
   "source": [
    "ex077 - Python 077: Crie um programa que tenha uma tupla com várias palavras (não usar acentos). Depois disso,\n",
    "        você deve mostrar, para cada palavra, quais são as suas vogais."
   ]
  },
  {
   "cell_type": "code",
   "execution_count": null,
   "metadata": {},
   "outputs": [],
   "source": [
    "palavras = ('aprender', 'programar', 'linguagem', 'puthon', 'curso', 'gratis', 'estudar',\n",
    "            'praticar', 'trabalhar', 'mercado', 'programador', 'futuro')\n",
    "\n",
    "for p in palavras:\n",
    "    print(f'\\nNa palavra {p.upper()} temos ', end='')\n",
    "    for letra in p:\n",
    "        if letra.lower() in 'aeiou':\n",
    "            print(letra, end=' ')\n"
   ]
  },
  {
   "attachments": {},
   "cell_type": "markdown",
   "metadata": {},
   "source": [
    "ex078 - Faça um programa que leia 5 valores numéricos e guarde-os em uma lista. No final,\n",
    "        mostre qual foi o maior e o menor valor digitado e as suas respectivas posições na lista."
   ]
  },
  {
   "cell_type": "code",
   "execution_count": null,
   "metadata": {},
   "outputs": [],
   "source": [
    "list = []\n",
    "for n in range(0, 5):\n",
    "    list.append(int(input(f'Digite um valor para a posição {n}: ')))\n",
    "\n",
    "print(f'Você digidou {list}')\n",
    "\n",
    "max = max(list)\n",
    "print(f'O maior valor digitado foi {max} nas posições ')\n",
    "for cont, n in enumerate(list):\n",
    "    if n == max:\n",
    "        print(f'{cont}... ', end='')\n",
    "\n",
    "min = min(list)\n",
    "print(f'\\nO menor valor digitado foi {min} nas posições ')\n",
    "for cont, n in enumerate(list):\n",
    "    if n == min:\n",
    "        print(f'{cont}... ', end='')\n"
   ]
  },
  {
   "attachments": {},
   "cell_type": "markdown",
   "metadata": {},
   "source": [
    "ex079 - Crie um programa onde o usuário possa digitar vários valores numéricos e cadastre-os em uma lista.\n",
    "        Caso o número já exista lá dentro, ele não será adicionado. No final,\n",
    "        serão exibidos todos os valores únicos digitados, em ordem crescente."
   ]
  },
  {
   "cell_type": "code",
   "execution_count": null,
   "metadata": {},
   "outputs": [],
   "source": [
    "numeros = list()\n",
    "while True:\n",
    "    num = int(input('Digite um valor: '))\n",
    "    if num not in numeros:\n",
    "        numeros.append(num)\n",
    "        print('Valor adicionado!!!')\n",
    "    resp = ' '\n",
    "    while resp not in 'SN':\n",
    "        resp = str(input('Quer continuar? [S/N] ')).strip().upper()[0]\n",
    "    if resp == 'N':\n",
    "        break\n",
    "\n",
    "numeros.sort()\n",
    "print(f'Voce digitou os valores {numeros}')\n"
   ]
  },
  {
   "attachments": {},
   "cell_type": "markdown",
   "metadata": {},
   "source": [
    "ex080 - Crie um programa onde o usuário possa digitar cinco valores numéricos e cadastre-os em uma lista,\n",
    "        já na posição correta de inserção (sem usar o sort()). No final, mostre a lista ordenada na tela."
   ]
  },
  {
   "cell_type": "code",
   "execution_count": null,
   "metadata": {},
   "outputs": [],
   "source": [
    "list = []\n",
    "for cont in range(0, 5):\n",
    "    num = int(input('Digite um valor: '))\n",
    "    if cont == 0 or num > list[-1]:\n",
    "        list.append(num)\n",
    "        print('Adicionado ao final da lista...')\n",
    "    else:\n",
    "        pos = 0\n",
    "        while pos < len(list):\n",
    "            if num <= list[pos]:\n",
    "                list.insert(pos, num)\n",
    "                print(f'Adicionado na posição {pos}...')\n",
    "                break\n",
    "            pos += 1\n",
    "print('-=' * 30)\n",
    "print(f'Os valores digitados em ordem foram {list}')\n"
   ]
  },
  {
   "attachments": {},
   "cell_type": "markdown",
   "metadata": {},
   "source": [
    "ex081 - Crie um programa que vai ler vários números e colocar em uma lista. Depois disso, mostre:\n",
    "        A) Quantos números foram digitados.\n",
    "        B) A lista de valores, ordenada de forma decrescente.\n",
    "        C) Se o valor 5 foi digitado e está ou não na lista."
   ]
  },
  {
   "cell_type": "code",
   "execution_count": null,
   "metadata": {},
   "outputs": [],
   "source": [
    "numeros = list()\n",
    "cont = 0\n",
    "\n",
    "while True:\n",
    "    num = int(input('Digite um valor: '))\n",
    "    numeros.append(num)\n",
    "    cont += 1\n",
    "\n",
    "    resp = ' '\n",
    "    while resp not in 'SN':\n",
    "        resp = str(input('Quer continuar? [S/N] ')).strip().upper()[0]\n",
    "    if resp == 'N':\n",
    "        break\n",
    "\n",
    "numeros.sort(reverse=True)\n",
    "print(f'Voce digitou os valores {numeros}')\n",
    "print(f'Voce digitou {cont} numeros')\n",
    "if 5 in numeros:\n",
    "    print(f'O valor 5 foi encontrado na lista')\n",
    "else:\n",
    "    print(f'O valor não 5 foi encontrado na lista')\n"
   ]
  },
  {
   "attachments": {},
   "cell_type": "markdown",
   "metadata": {},
   "source": [
    "ex082 - Crie um programa que vai ler vários números e colocar em uma lista. Depois disso,\n",
    "        crie duas listas extras que vão conter apenas os valores pares e os valores ímpares digitados,\n",
    "        respectivamente. Ao final, mostre o conteúdo das três listas geradas."
   ]
  },
  {
   "cell_type": "code",
   "execution_count": null,
   "metadata": {},
   "outputs": [],
   "source": [
    "numeros = []\n",
    "numerosImp = []\n",
    "numerosPar = []\n",
    "\n",
    "while True:\n",
    "    n = int(input('Digite um numero: '))\n",
    "    numeros.append(n)\n",
    "    if n % 2 == 0:\n",
    "        numerosPar.append(n)\n",
    "    else:\n",
    "        numerosImp.append(n)\n",
    "\n",
    "    resp = ' '\n",
    "    while resp not in 'sn':\n",
    "        resp = str(input('Deseja continuar: [N/S] ')).strip().lower()[0]\n",
    "    if resp in 'n':\n",
    "        break\n",
    "\n",
    "print('-=' * 30)\n",
    "print(f'A Lista completa é {numeros}')\n",
    "print(f'A Lista de par é {numerosPar}')\n",
    "print(f'A Lista de impar é {numerosImp}')\n"
   ]
  },
  {
   "attachments": {},
   "cell_type": "markdown",
   "metadata": {},
   "source": [
    "ex083 - Crie um programa onde o usuário digite uma expressão qualquer que use parênteses.\n",
    "        Seu aplicativo deverá analisar se a expressão passada está com os parênteses abertos e\n",
    "        fechados na ordem correta."
   ]
  },
  {
   "cell_type": "code",
   "execution_count": null,
   "metadata": {},
   "outputs": [],
   "source": [
    "expr = str(input('Digite uma expressão: '))\n",
    "pilha = []\n",
    "for simb in expr:\n",
    "    if simb == '(':\n",
    "        pilha.append('(')\n",
    "    elif simb == ')':\n",
    "        if len(pilha) > 0:\n",
    "            pilha.pop()\n",
    "        else:\n",
    "            pilha.append(')')\n",
    "            break\n",
    "\n",
    "if len(pilha) == 0:\n",
    "    print('Sua expressão é valida')\n",
    "else:\n",
    "    print('Sua expressão não é valida')"
   ]
  },
  {
   "attachments": {},
   "cell_type": "markdown",
   "metadata": {},
   "source": [
    "ex084 - Faça um programa que leia nome e peso de várias pessoas, guardando tudo em uma lista. No final, mostre:\n",
    "        A) Quantas pessoas foram cadastradas.\n",
    "        B) Uma listagem com as pessoas mais pesadas.\n",
    "        C) Uma listagem com as pessoas mais leves."
   ]
  },
  {
   "cell_type": "code",
   "execution_count": null,
   "metadata": {},
   "outputs": [],
   "source": [
    "temp = []\n",
    "princ = []\n",
    "mai = men = 0\n",
    "\n",
    "while True:\n",
    "    temp.append(str(input('Nome: ')))\n",
    "    temp.append(float(input('Peso: ')))\n",
    "    if len(princ) == 0:\n",
    "        mai = men = temp[1]\n",
    "    else:\n",
    "        if temp[1] > mai:\n",
    "            mai = temp[1]\n",
    "        if temp[1] < men:\n",
    "            men = temp[1]\n",
    "    princ.append(temp[:])\n",
    "    temp.clear()\n",
    "    resp = str(input('Quer continuar? [S/N] '))\n",
    "    if resp in 'Nn':\n",
    "        break\n",
    "\n",
    "print('-=' * 30)\n",
    "print(f'Ao todo, você cadastrou {len(princ)} pessoas')\n",
    "print(f'O maior peso foi de {mai}Kg. Peso de ', end='')\n",
    "for p in princ:\n",
    "    if p[1] == mai:\n",
    "        print(f'[{p[0]}]', end='')\n",
    "print()\n",
    "print(f'O menor peso foi de {men}Kg. Peso de ', end='')\n",
    "for p in princ:\n",
    "    if p[1] == men:\n",
    "        print(f'[{p[0]}]', end='')\n"
   ]
  },
  {
   "attachments": {},
   "cell_type": "markdown",
   "metadata": {},
   "source": [
    "ex085 - Crie um programa onde o usuário possa digitar sete valores numéricos e cadastre-os em uma lista única\n",
    "        que mantenha separados os valores pares e ímpares. No final,\n",
    "        mostre os valores pares e ímpares em ordem crescente."
   ]
  },
  {
   "cell_type": "code",
   "execution_count": null,
   "metadata": {},
   "outputs": [],
   "source": [
    "lista = [[], []]\n",
    "for i in range(0, 7):\n",
    "    n = int(input(f'Digite o {i + 1}º valor: '))\n",
    "    if n % 2 == 0:\n",
    "        lista[0].append(n)\n",
    "    else:\n",
    "        lista[1].append(n)\n",
    "\n",
    "print('-=' * 30)\n",
    "lista[0].sort()\n",
    "lista[1].sort()\n",
    "print(f'A lista de impar é: {lista[1]}')\n",
    "print(f'A lista de par é: {lista[0]}')"
   ]
  },
  {
   "attachments": {},
   "cell_type": "markdown",
   "metadata": {},
   "source": [
    "ex086 - Crie um programa que declare uma matriz de dimensão 3x3 e preencha com valores lidos pelo teclado.\n",
    "        No final, mostre a matriz na tela, com a formatação correta."
   ]
  },
  {
   "cell_type": "code",
   "execution_count": null,
   "metadata": {},
   "outputs": [],
   "source": [
    "lista = [[0, 0, 0], [0, 0, 0], [0, 0, 0]]\n",
    "for l in range(0, 3):\n",
    "    for c in range(0, 3):\n",
    "        lista[l][c] = int(input(f'Digite um valor para [{l}, {c}]: '))\n",
    "\n",
    "print('-=' * 30)\n",
    "for l in range(0, 3):\n",
    "    for c in range(0, 3):\n",
    "        print(f'{lista[l][c]}', end='     ')\n",
    "    print('\\n')\n"
   ]
  },
  {
   "attachments": {},
   "cell_type": "markdown",
   "metadata": {},
   "source": [
    "ex087"
   ]
  },
  {
   "cell_type": "code",
   "execution_count": null,
   "metadata": {},
   "outputs": [],
   "source": [
    "lista = [[0, 0, 0], [0, 0, 0], [0, 0, 0]]\n",
    "spar = mai = scol = 0\n",
    "for l in range(0, 3):\n",
    "    for c in range(0, 3):\n",
    "        lista[l][c] = int(input(f'Digite um valor para [{l}, {c}]: '))\n",
    "        if lista[l][c] % 2 == 0:\n",
    "            spar +=lista[l][c]\n",
    "        if lista[l][c] > mai:\n",
    "            mai = lista[l][c]\n",
    "\n",
    "print('-=' * 30)\n",
    "for l in range(0, 3):\n",
    "    for c in range(0, 3):\n",
    "        print(f'{lista[l][c]}', end='     ')\n",
    "    print('\\n')\n",
    "\n",
    "print(f'A soma dos valores par é: {spar}')\n",
    "for l in range(0, 3):\n",
    "    scol += lista[l][2]\n",
    "print(f'A soma dos valores da terceira coluna é: {scol}')\n",
    "print(f'O maior valor digitado é: {mai}')\n"
   ]
  },
  {
   "attachments": {},
   "cell_type": "markdown",
   "metadata": {},
   "source": [
    "ex088 - Faça um programa que ajude um jogador da MEGA SENA a criar palpites.O programa vai perguntar quantos\n",
    "        jogos serão gerados e vai sortear 6 números entre 1 e 60 para cada jogo, cadastrando tudo em uma lista composta."
   ]
  },
  {
   "cell_type": "code",
   "execution_count": null,
   "metadata": {},
   "outputs": [],
   "source": [
    "from random import randint\n",
    "from time import sleep\n",
    "lista = []\n",
    "jogos = []\n",
    "cont = 0\n",
    "print('-=' * 30)\n",
    "print('      JOGO DA MEGA     ')\n",
    "print('-=' * 30)\n",
    "n = int(input('Digite quantos jogos deseja fazer: '))\n",
    "for i in range(0, n):\n",
    "    while True:\n",
    "        num = randint(1, 60)\n",
    "        if num not in lista:\n",
    "            lista.append(num)\n",
    "            cont += 1\n",
    "        if cont > 5:\n",
    "            cont = 0\n",
    "            break\n",
    "    jogos.append(lista[:])\n",
    "    lista.clear()\n",
    "\n",
    "print('Os jogos sorteados foram:')\n",
    "for jogo in jogos:\n",
    "    print(jogo)\n",
    "    sleep(1)\n"
   ]
  },
  {
   "attachments": {},
   "cell_type": "markdown",
   "metadata": {},
   "source": [
    "ex089 - Crie um programa que leia nome e duas notas de vários alunos e guarde tudo em uma lista composta.\n",
    "        No final, mostre um boletim contendo a média de cada um e permita que o usuário possa mostrar as\n",
    "        notas de cada aluno individualmente."
   ]
  },
  {
   "cell_type": "code",
   "execution_count": null,
   "metadata": {},
   "outputs": [],
   "source": [
    "ficha = list()\n",
    "while True:\n",
    "    nome = str(input('Nome: '))\n",
    "    nota1 = float(input('Nota 1: '))\n",
    "    nota2 = float(input('Nota 2: '))\n",
    "    media = (nota1 + nota2) / 2\n",
    "    ficha.append([nome, [nota1, nota2], media])\n",
    "    resp = str(input('Quer continuar? [S/N]'))\n",
    "    if resp in 'Nn':\n",
    "        break\n",
    "\n",
    "print('-=' * 30)\n",
    "print(f'{\"No.\":<4}{\"Nome\":<10}{\"MÉDIA\":>8}')\n",
    "print('-' * 26)\n",
    "for i, a in enumerate(ficha):\n",
    "    print(f'{i:<4}{a[0]:<10}{a[2]:>8}')\n",
    "\n",
    "while True:\n",
    "    print('-' * 35)\n",
    "    opc = int(input('Mostrar notas de qual aluno? (999 interrompe): '))\n",
    "    if opc == 999:\n",
    "        print('Finalizando...')\n",
    "        break\n",
    "    if opc <= len(ficha) - 1:\n",
    "        print(f'Notas de {ficha[opc][0]} são {ficha[opc][1]}')\n",
    "\n",
    "print('<<< Volte sempre >>>')\n"
   ]
  },
  {
   "attachments": {},
   "cell_type": "markdown",
   "metadata": {},
   "source": [
    "ex090 - Faça um programa que leia nome e média de um aluno, guardando também a situação em um dicionário.\n",
    "        No final, mostre o conteúdo da estrutura na tela."
   ]
  },
  {
   "cell_type": "code",
   "execution_count": null,
   "metadata": {},
   "outputs": [],
   "source": [
    "aluno = dict()\n",
    "aluno['nome'] = str(input('Nome: '))\n",
    "aluno['media'] = float(input(f'Média de {aluno[\"nome\"]}: '))\n",
    "if aluno['media'] >= 7:\n",
    "    aluno['situacao'] = 'Aprovado'\n",
    "elif 5 <= aluno['media'] < 7:\n",
    "    aluno['situacao'] = 'Recuparação'\n",
    "else:\n",
    "    aluno['situacao'] = 'Reprovado'\n",
    "print('-=' * 30)\n",
    "for k, v in aluno.items():\n",
    "    print(f' - {k} é igual a {v}')"
   ]
  },
  {
   "attachments": {},
   "cell_type": "markdown",
   "metadata": {},
   "source": [
    "ex091 - Crie um programa onde 4 jogadores joguem um dado e tenham resultados aleatórios.\n",
    "        Guarde esses resultados em um dicionário em Python. No final, coloque esse dicionário em ordem,\n",
    "        sabendo que o vencedor tirou o maior número no dado."
   ]
  },
  {
   "cell_type": "code",
   "execution_count": null,
   "metadata": {},
   "outputs": [],
   "source": [
    "from random import randint\n",
    "from time import sleep\n",
    "from operator import itemgetter\n",
    "jogo = {'jogador1': randint(1, 6),\n",
    "        'jogador2': randint(1, 6),\n",
    "        'jogador3': randint(1, 6),\n",
    "        'jogador4': randint(1, 6)}\n",
    "ranking = list()\n",
    "print(('Valores sorteados:'))\n",
    "for k, v in jogo.items():\n",
    "    print(f'{k} tirou {v} no dado.')\n",
    "    sleep(1)\n",
    "ranking = sorted(jogo.items(), key=itemgetter(1), reverse=True)\n",
    "print('-=' * 30)\n",
    "print('  == RANKING DOS JOGADORES ==')\n",
    "for i, v in enumerate(ranking):\n",
    "    print(f'   {i+1}º lugar: {v[0]} com {v[1]}.')\n",
    "    sleep(1)\n"
   ]
  },
  {
   "attachments": {},
   "cell_type": "markdown",
   "metadata": {},
   "source": [
    "ex092 - Crie um programa que leia nome, ano de nascimento e carteira de trabalho e cadastre-o (com idade)\n",
    "        em um dicionário. Se por acaso a CTPS for diferente de ZERO, o dicionário receberá também o ano de contratação\n",
    "        e o salário. Calcule e acrescente, além da idade, com quantos anos a pessoa vai se aposentar."
   ]
  },
  {
   "cell_type": "code",
   "execution_count": null,
   "metadata": {},
   "outputs": [],
   "source": [
    "from datetime import datetime\n",
    "dados = dict()\n",
    "dados['nome'] = str(input('Nome: '))\n",
    "nasc = int(input('Ano de Nascimento: '))\n",
    "dados['idade'] = datetime.now().year - nasc\n",
    "dados['ctps'] = int(input('Carteira de Trabalho (0 não tem): '))\n",
    "if dados['ctps'] != 0:\n",
    "    dados['contratação'] = int(input('Ano de contratação: '))\n",
    "    dados['salario'] = float(input('salario: R$'))\n",
    "    dados['aposentadoria'] = dados['idade'] + ((dados['contratação'] + 35) - datetime.now().year)\n",
    "print('-=' * 30)\n",
    "for k, v in dados.items():\n",
    "    print(f' - {k} tem o valor {v}')"
   ]
  },
  {
   "attachments": {},
   "cell_type": "markdown",
   "metadata": {},
   "source": [
    "ex093 - Crie um programa que gerencie o aproveitamento de um jogador de futebol. O programa vai ler o nome do jogador\n",
    "        e quantas partidas ele jogou. Depois vai ler a quantidade de gols feitos em cada partida.\n",
    "        No final, tudo isso será guardado em um dicionário, incluindo o total de gols feitos durante o campeonato."
   ]
  },
  {
   "cell_type": "code",
   "execution_count": null,
   "metadata": {},
   "outputs": [],
   "source": []
  },
  {
   "attachments": {},
   "cell_type": "markdown",
   "metadata": {},
   "source": [
    "ex0107 - Crie um módulo chamado moeda.py que tenha as funções incorporadas aumentar(), diminuir(), dobro() e metade().\n",
    "         Faça também um programa que importe esse módulo e use algumas dessas funções."
   ]
  },
  {
   "cell_type": "code",
   "execution_count": 5,
   "metadata": {},
   "outputs": [
    {
     "name": "stdout",
     "output_type": "stream",
     "text": [
      "A metade de 30.0 é 15.0\n"
     ]
    }
   ],
   "source": [
    "import resources.moeda as moeda\n",
    "\n",
    "p = float(input('Digire o preço: R$'))\n",
    "print(f'A metade de {p } é {moeda.metade(p)}')"
   ]
  },
  {
   "attachments": {},
   "cell_type": "markdown",
   "metadata": {},
   "source": [
    "ex0108 - Adapte o código do desafio #107, criando uma função adicional chamada moeda() que consiga mostrar\n",
    "         os números como um valor monetário formatado."
   ]
  },
  {
   "cell_type": "code",
   "execution_count": 6,
   "metadata": {},
   "outputs": [
    {
     "name": "stdout",
     "output_type": "stream",
     "text": [
      "A metade de R$30,00 é R$15,00\n",
      "O dobro de R$30,00 é R$60,00\n",
      "Aumentando 10%, temos R$33,00\n"
     ]
    }
   ],
   "source": [
    "import resources.moeda as moeda\n",
    "\n",
    "p = float(input('Digire o preço: R$'))\n",
    "print(f'A metade de {moeda.moeda(p)} é {moeda.moeda(moeda.metade(p))}')\n",
    "print(f'O dobro de {moeda.moeda(p)} é {moeda.moeda(moeda.dobro(p))}')\n",
    "print(f'Aumentando 10%, temos {moeda.moeda(moeda.aumentar(p, 10))}')"
   ]
  },
  {
   "attachments": {},
   "cell_type": "markdown",
   "metadata": {},
   "source": [
    "ex0109 - Modifique as funções que form criadas no desafio 107 para que elas aceitem um parâmetro a mais,\n",
    "         informando se o valor retornado por elas vai ser ou não formatado pela função moeda(),\n",
    "         desenvolvida no desafio 108."
   ]
  },
  {
   "cell_type": "code",
   "execution_count": null,
   "metadata": {},
   "outputs": [],
   "source": [
    "import resources.moeda as moeda\n",
    "\n",
    "p = float(input('Digire o preço: R$'))\n",
    "print(f'A metade de {moeda.moeda(p)} é {moeda.metade(p, True)}')\n",
    "print(f'O dobro de {moeda.moeda(p)} é {moeda.dobro(p, True)}')\n",
    "print(f'Aumentando 10%, temos {moeda.aumentar(p, 10, True)}')\n",
    "print(f'Reduzindo 13%, temos {moeda.aumentar(p, 13, True)}')\n"
   ]
  },
  {
   "attachments": {},
   "cell_type": "markdown",
   "metadata": {},
   "source": [
    "ex0110 - Adicione o módulo moeda.py criado nos desafios anteriores, uma função chamada resumo(),\n",
    "         que mostre na tela algumas informações geradas pelas funções que já temos no módulo criado até aqui."
   ]
  },
  {
   "cell_type": "code",
   "execution_count": null,
   "metadata": {},
   "outputs": [],
   "source": [
    "import resources.moeda as moeda\n",
    "\n",
    "p = float(input('Digire o preço: R$'))\n",
    "moeda.resumo(p)\n"
   ]
  },
  {
   "attachments": {},
   "cell_type": "markdown",
   "metadata": {},
   "source": [
    "ex0111 - Crie um pacote chamado utilidadesCeV que tenha dois módulos internos chamados moeda e dado.\n",
    "         Transfira todas as funções utilizadas nos desafios 107, 108 e 109 para o primeiro pacote\n",
    "         e mantenha tudo funcionando."
   ]
  },
  {
   "cell_type": "code",
   "execution_count": 1,
   "metadata": {},
   "outputs": [
    {
     "ename": "ModuleNotFoundError",
     "evalue": "No module named 'ex112'",
     "output_type": "error",
     "traceback": [
      "\u001b[1;31m---------------------------------------------------------------------------\u001b[0m",
      "\u001b[1;31mModuleNotFoundError\u001b[0m                       Traceback (most recent call last)",
      "\u001b[1;32mc:\\Users\\cadu\\Desktop\\GIT\\Curso_em_Video\\Scripts.ipynb Cell 187\u001b[0m in \u001b[0;36m<cell line: 1>\u001b[1;34m()\u001b[0m\n\u001b[1;32m----> <a href='vscode-notebook-cell:/c%3A/Users/cadu/Desktop/GIT/Curso_em_Video/Scripts.ipynb#Y354sZmlsZQ%3D%3D?line=0'>1</a>\u001b[0m \u001b[39mfrom\u001b[39;00m \u001b[39mresources\u001b[39;00m\u001b[39m.\u001b[39;00m\u001b[39mutilidadescev\u001b[39;00m \u001b[39mimport\u001b[39;00m moeda\n\u001b[0;32m      <a href='vscode-notebook-cell:/c%3A/Users/cadu/Desktop/GIT/Curso_em_Video/Scripts.ipynb#Y354sZmlsZQ%3D%3D?line=2'>3</a>\u001b[0m p \u001b[39m=\u001b[39m \u001b[39mfloat\u001b[39m(\u001b[39minput\u001b[39m(\u001b[39m'\u001b[39m\u001b[39mDigire o preço: R$\u001b[39m\u001b[39m'\u001b[39m))\n\u001b[0;32m      <a href='vscode-notebook-cell:/c%3A/Users/cadu/Desktop/GIT/Curso_em_Video/Scripts.ipynb#Y354sZmlsZQ%3D%3D?line=3'>4</a>\u001b[0m moeda\u001b[39m.\u001b[39mresumo(p, \u001b[39m10\u001b[39m, \u001b[39m15\u001b[39m)\n",
      "File \u001b[1;32mc:\\Users\\cadu\\Desktop\\GIT\\Curso_em_Video\\resources\\utilidadescev\\__init__.py:1\u001b[0m, in \u001b[0;36m<module>\u001b[1;34m\u001b[0m\n\u001b[1;32m----> 1\u001b[0m \u001b[39mfrom\u001b[39;00m \u001b[39mex112\u001b[39;00m\u001b[39m.\u001b[39;00m\u001b[39mutilidadescev\u001b[39;00m \u001b[39mimport\u001b[39;00m moeda\n\u001b[0;32m      2\u001b[0m \u001b[39mfrom\u001b[39;00m \u001b[39mex112\u001b[39;00m\u001b[39m.\u001b[39;00m\u001b[39mutilidadescev\u001b[39;00m \u001b[39mimport\u001b[39;00m dado\n",
      "\u001b[1;31mModuleNotFoundError\u001b[0m: No module named 'ex112'"
     ]
    }
   ],
   "source": [
    "from resources.utilidadescev import moeda\n",
    "\n",
    "p = float(input('Digire o preço: R$'))\n",
    "moeda.resumo(p, 10, 15)\n"
   ]
  },
  {
   "attachments": {},
   "cell_type": "markdown",
   "metadata": {},
   "source": [
    "ex0112 - Dentro do pacote utilidadesCeV que criamos no desafio 111, temos um módulo chamado dado.\n",
    "         Crie uma função chamada leiaDinheiro() que seja capaz de funcionar como a função imputa(),\n",
    "         mas com uma validação de dados para aceitar apenas valores que seja monetários."
   ]
  },
  {
   "cell_type": "code",
   "execution_count": null,
   "metadata": {},
   "outputs": [],
   "source": [
    "from resources.utilidadescev import moeda, dado\n",
    "\n",
    "p = dado.leiaDinheiro('Digite o preço: R$')\n",
    "moeda.resumo(p, 10, 15)"
   ]
  },
  {
   "cell_type": "markdown",
   "metadata": {},
   "source": []
  }
 ],
 "metadata": {
  "kernelspec": {
   "display_name": "Python 3",
   "language": "python",
   "name": "python3"
  },
  "language_info": {
   "codemirror_mode": {
    "name": "ipython",
    "version": 3
   },
   "file_extension": ".py",
   "mimetype": "text/x-python",
   "name": "python",
   "nbconvert_exporter": "python",
   "pygments_lexer": "ipython3",
   "version": "3.10.5"
  },
  "orig_nbformat": 4
 },
 "nbformat": 4,
 "nbformat_minor": 2
}
